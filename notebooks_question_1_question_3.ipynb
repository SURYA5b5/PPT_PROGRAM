{
  "metadata": {
    "language_info": {
      "codemirror_mode": {
        "name": "python",
        "version": 3
      },
      "file_extension": ".py",
      "mimetype": "text/x-python",
      "name": "python",
      "nbconvert_exporter": "python",
      "pygments_lexer": "ipython3",
      "version": "3.8"
    },
    "kernelspec": {
      "name": "python",
      "display_name": "Python (Pyodide)",
      "language": "python"
    }
  },
  "nbformat_minor": 4,
  "nbformat": 4,
  "cells": [
    {
      "cell_type": "code",
      "source": "class Node:\n    def __init__(self, data):\n        self.data = data\n        self.next = None\n\n\nclass Solution:\n    def __init__(self):\n        self.head = None\n    def addTwoLists(self, l1, l2):\n        q1 = []\n        q2 = []\n        while l1:\n            q1.append(l1.data)\n            l1 = l1.next\n        while l2:\n            q2.append(l2.data)\n            l2 = l2.next\n        q1 = [str(i) for i in q1]\n        s1 = int(\"\".join(q1[::-1]))\n        q2 = [str(i) for i in q2]\n        s2 = int(\"\".join(q2[::-1]))\n        s = s1+s2\n        s = [i for i in str(s)]\n        s = s[::-1]\n        head = l = Node(0)\n        for i in s:\n            l.next = Node(i)\n            l = l.next\n        return head.next\n\n\nclass Node:\n    def __init__(self, data):\n        self.data = data\n        self.next = None\n\nclass LinkedList:\n    def __init__(self):\n        self.head = None\n        self.tail = None\n\n    def insert(self, val):\n        if self.head is None:\n            self.head = Node(val)\n            self.tail = self.head\n        else:\n            self.tail.next = Node(val)\n            self.tail = self.tail.next\n\ndef printList(n):\n    while n:\n        print(n.data,end=' ')\n        n = n.next\n    print()\n\nif __name__ == '__main__':\n\n        arr1 = [2,4,3]\n        arr2 = [5,6,4]\n\n        LL1 = LinkedList()\n        for i in arr1:\n            LL1.insert(i)\n\n        LL2 = LinkedList()\n        for i in arr2:\n            LL2.insert(i)\n        obj = Solution()\n        res = obj.addTwoLists(LL1.head, LL2.head)\n        printList(res)",
      "metadata": {
        "trusted": true
      },
      "execution_count": 3,
      "outputs": [
        {
          "name": "stdout",
          "text": "7 0 8 \n",
          "output_type": "stream"
        }
      ]
    },
    {
      "cell_type": "code",
      "source": "",
      "metadata": {},
      "execution_count": null,
      "outputs": []
    }
  ]
}