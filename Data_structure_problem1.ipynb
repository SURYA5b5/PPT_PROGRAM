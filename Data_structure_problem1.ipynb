{
 "cells": [
  {
   "cell_type": "markdown",
   "id": "f5009f6a",
   "metadata": {},
   "source": [
    "** Q1.** Given an array of integers nums and an integer target, return indices of the two numbers such that they add up to target.\n",
    "\n",
    "You may assume that each input would have exactly one solution, and you may not use the same element twice.\n",
    "\n",
    "You can return the answer in any order.\n",
    "\n",
    "**Example:**\n",
    "Input: nums = [2,7,11,15], target = 9\n",
    "Output0 [0,1]\n",
    "\n",
    "**Explanation:** Because nums[0] + nums[1] == 9, we return [0, 1]["
   ]
  },
  {
   "cell_type": "code",
   "execution_count": 343,
   "id": "16121ad2",
   "metadata": {},
   "outputs": [
    {
     "name": "stdout",
     "output_type": "stream",
     "text": [
      "index of sum of 9 in array is = [0, 1]\n"
     ]
    }
   ],
   "source": [
    "class Sumarray:  \n",
    "    def __init__(self, list1, target):  \n",
    "        self.list1 = list1  \n",
    "        self.target = target  \n",
    "          \n",
    "    def add(self):  \n",
    "        length = len(list1)  \n",
    "          \n",
    "        for i in range(length-1):  \n",
    "            for j in range(i+1, length):  \n",
    "                if list1[i]+list1[j] == self.target:  \n",
    "                    new_list = i, j  \n",
    "                    return list(new_list)  \n",
    "        return \"No elements present in array\"  \n",
    "  \n",
    "list1 = [2,7,11,15]  \n",
    "target = 9  \n",
    "obj = Sumarray(list1, target)  \n",
    "print(f\"index of sum of {target} in array is = {obj.add()}\")  "
   ]
  },
  {
   "cell_type": "markdown",
   "id": "686fc7ae",
   "metadata": {},
   "source": [
    "**2.** Given an integer array nums and an integer val, remove all occurrences of val in nums in-place. The order of the elements may be changed. Then return the number of elements in nums which are not equal to val.\n",
    "\n",
    "Consider the number of elements in nums which are not equal to val be k, to get accepted, you need to do the following things:\n",
    "\n",
    "- Change the array nums such that the first k elements of nums contain the elements which are not equal to val. The remaining elements of nums are not important as well as the size of nums.\n",
    "- Return k.\n",
    "\n",
    "**Example :**\n",
    "Input: nums = [3,2,2,3], val = 3\n",
    "Output: 2, nums = [2,2,_*,_*]\n",
    "\n",
    "**Explanation:** Your function should return k = 2, with the first two elements of nums being 2. It does not matter what you leave beyond the returned k (hence they are underscores)["
   ]
  },
  {
   "cell_type": "code",
   "execution_count": 344,
   "id": "f3ba0f1e",
   "metadata": {},
   "outputs": [
    {
     "data": {
      "text/plain": [
       "[2, 2]"
      ]
     },
     "execution_count": 344,
     "metadata": {},
     "output_type": "execute_result"
    }
   ],
   "source": [
    "class ask:\n",
    "    def __init__(self,arr,value,key):\n",
    "        self.arr=arr\n",
    "        self.value=value\n",
    "        self.key=key\n",
    "    def missing(self):\n",
    "        try:\n",
    "            l=[]\n",
    "            s=[]\n",
    "            for i in range(len(arr)):\n",
    "                if arr[i]!=value:\n",
    "                    l.append(arr[i])\n",
    "            for i in range(key):\n",
    "                s.append(l[i])\n",
    "            \n",
    "            return s\n",
    "        except IndexError as e:\n",
    "            print(e,f\"only {len(l)} len we have\")\n",
    "        \n",
    "arr=[3,2,2,3,5]\n",
    "value= 3\n",
    "key=2\n",
    "a=ask(arr,value,key)\n",
    "a.missing()"
   ]
  },
  {
   "cell_type": "markdown",
   "id": "8c83f156",
   "metadata": {},
   "source": [
    "Q3.** Given a sorted array of distinct integers and a target value, return the index if the target is found. If not, return the index where it would be if it were inserted in order.\n",
    "\n",
    "You must write an algorithm with O(log n) runtime complexity.\n",
    "\n",
    "**Example 1:**\n",
    "Input: nums = [1,3,5,6], target = 5\n",
    "\n",
    "Output: 2"
   ]
  },
  {
   "cell_type": "code",
   "execution_count": 345,
   "id": "bae17155",
   "metadata": {},
   "outputs": [
    {
     "data": {
      "text/plain": [
       "2"
      ]
     },
     "execution_count": 345,
     "metadata": {},
     "output_type": "execute_result"
    }
   ],
   "source": [
    "class find:\n",
    "    def __init__(self,arr,n,target):\n",
    "        self.arr=arr\n",
    "        self.n=n\n",
    "        self.target=target\n",
    "    def index(self):\n",
    "        left=0\n",
    "        right=n-1\n",
    "        \n",
    "        while(left<=right):\n",
    "            mid=(left+right)//2\n",
    "            if arr[mid]==target:\n",
    "                return mid\n",
    "            elif arr[mid]<target:\n",
    "                left=mid+1\n",
    "            else:\n",
    "                right=mid-1\n",
    "        return right+1\n",
    "arr=[1,3,5,6]\n",
    "n=len(arr)\n",
    "target=5\n",
    "f=find(arr,n,target)\n",
    "f.index()"
   ]
  },
  {
   "cell_type": "markdown",
   "id": "cf4c8942",
   "metadata": {},
   "source": [
    "**4.** You are given a large integer represented as an integer array digits, where each digits[i] is the ith digit of the integer. The digits are ordered from most significant to least significant in left-to-right order. The large integer does not contain any leading 0's.\n",
    "\n",
    "Increment the large integer by one and return the resulting array of digits.\n",
    "\n",
    "**Example 1:**\n",
    "Input: digits = [1,2,3]\n",
    "Output: [1,2,4]\n",
    "\n",
    "**Explanation:** The array represents the integer 123.\n",
    "\n",
    "Incrementing by one gives 123 + 1 = 124.\n",
    "Thus, the result should be [1,2,4].\n",
    "\n",
    "</aside>"
   ]
  },
  {
   "cell_type": "code",
   "execution_count": 346,
   "id": "a019f0a5",
   "metadata": {},
   "outputs": [
    {
     "data": {
      "text/plain": [
       "[1, 2, 4]"
      ]
     },
     "execution_count": 346,
     "metadata": {},
     "output_type": "execute_result"
    }
   ],
   "source": [
    "class D:\n",
    "    def __init__(self,digits):\n",
    "        self.digits=digits\n",
    "    def collection(self):\n",
    "        p=[e * 10 ** i for i, e in enumerate(digits[::-1])]\n",
    "        s=sum(p)+1\n",
    "        k=list(map(int,str(s)))\n",
    "        return k\n",
    "    \n",
    "digits=[1,2,3]\n",
    "d=D(digits)\n",
    "d.collection()\n"
   ]
  },
  {
   "cell_type": "markdown",
   "id": "65c741bf",
   "metadata": {},
   "source": [
    "**5.** You are given two integer arrays nums1 and nums2, sorted in non-decreasing order, and two integers m and n, representing the number of elements in nums1 and nums2 respectively.\n",
    "\n",
    "Merge nums1 and nums2 into a single array sorted in non-decreasing order.\n",
    "\n",
    "The final sorted array should not be returned by the function, but instead be stored inside the array nums1. To accommodate this, nums1 has a length of m + n, where the first m elements denote the elements that should be merged, and the last n elements are set to 0 and should be ignored. nums2 has a length of n.\n",
    "\n",
    "**Example 1:**\n",
    "Input: nums1 = [1,2,3,0,0,0], m = 3, nums2 = [2,5,6], n = 3\n",
    "Output: [1,2,2,3,5,6]\n",
    "\n",
    "**Explanation:** The arrays we are merging are [1,2,3] and [2,5,6].\n",
    "The result of the merge is [1,2,2,3,5,6] with the underlined elements coming from nums1."
   ]
  },
  {
   "cell_type": "code",
   "execution_count": 347,
   "id": "e234f3e5",
   "metadata": {},
   "outputs": [
    {
     "name": "stdout",
     "output_type": "stream",
     "text": [
      "[1, 2, 2, 3, 5, 6]\n"
     ]
    }
   ],
   "source": [
    "class Solution(object):\n",
    "   def merge(self, nums1, m, nums2, n):\n",
    "      i = 0\n",
    "      j = 0\n",
    "      end = len(nums1)-1\n",
    "      while end>=0 and not nums1[end]:\n",
    "         end-=1\n",
    "      while j<len(nums2) :\n",
    "         if i>end and not nums1[i]:\n",
    "            nums1[i] = nums2[j]\n",
    "            j+=1\n",
    "         elif nums1[i]>nums2[j]:\n",
    "            self.shift(nums1,i)\n",
    "            nums1[i] = nums2[j]\n",
    "            end+=1\n",
    "            j+=1\n",
    "         i+=1\n",
    "      return nums1\n",
    "   def shift(self,num,i):\n",
    "      j = len(num)-1\n",
    "      while not num[j]:\n",
    "         j-=1\n",
    "      while j>=i:\n",
    "         num[j+1] = num[j]\n",
    "         j-=1\n",
    "        \n",
    "ob = Solution()\n",
    "print(ob.merge([1,2,3,0,0,0],3,[2,5,6],3))"
   ]
  },
  {
   "cell_type": "markdown",
   "id": "923bb70a",
   "metadata": {},
   "source": [
    "**6.** Given an integer array nums, return true if any value appears at least twice in the array, and return false if every element is distinct.\n",
    "\n",
    "**Example 1:**\n",
    "Input: nums = [1,2,3,1]\n",
    "\n",
    "Output: true"
   ]
  },
  {
   "cell_type": "code",
   "execution_count": 348,
   "id": "af4d74a3",
   "metadata": {},
   "outputs": [
    {
     "name": "stdout",
     "output_type": "stream",
     "text": [
      "false\n"
     ]
    }
   ],
   "source": [
    "class dup:\n",
    "    def __init__(self,arr):\n",
    "        self.arr=arr\n",
    "    def search(self):\n",
    "        if len(set(arr))==len(arr):\n",
    "            print(\"false\")\n",
    "        else:\n",
    "            print(\"true\")\n",
    "        \n",
    "    \n",
    "#arr=[1,2,3,1]\n",
    "arr=[1,3,4,5]\n",
    "d=dup(arr)\n",
    "d.search()"
   ]
  },
  {
   "cell_type": "markdown",
   "id": "22a1a775",
   "metadata": {},
   "source": [
    "**Q7.** Given an integer array nums, move all 0's to the end of it while maintaining the relative order of the nonzero elements.\n",
    "\n",
    "Note that you must do this in-place without making a copy of the array.\n",
    "\n",
    "**Example 1:**\n",
    "Input: nums = [0,1,0,3,12]\n",
    "Output: [1,3,12,0,0]\n",
    "\n",
    "</aside>"
   ]
  },
  {
   "cell_type": "code",
   "execution_count": 349,
   "id": "b9dcd638",
   "metadata": {},
   "outputs": [
    {
     "name": "stdout",
     "output_type": "stream",
     "text": [
      "[1, 3, 12, 0, 0]\n"
     ]
    }
   ],
   "source": [
    "def zero(arr, n):\n",
    "    count = 0\n",
    "\n",
    "    for i in range(n):\n",
    "        if arr[i] != 0:\n",
    "            arr[count] = arr[i]\n",
    "            count+=1\n",
    "\n",
    "    while count < n:\n",
    "        arr[count] = 0\n",
    "        count += 1\n",
    "        \n",
    "        \n",
    "arr = [0,1,0,3,12]\n",
    "n = len(arr)\n",
    "zero(arr, n)\n",
    "print(arr)"
   ]
  },
  {
   "cell_type": "markdown",
   "id": "531da930",
   "metadata": {},
   "source": [
    "**Q8.** You have a set of integers s, which originally contains all the numbers from 1 to n. Unfortunately, due to some error, one of the numbers in s got duplicated to another number in the set, which results in repetition of one number and loss of another number.\n",
    "\n",
    "You are given an integer array nums representing the data status of this set after the error.\n",
    "\n",
    "Find the number that occurs twice and the number that is missing and return them in the form of an array.\n",
    "\n",
    "**Example 1:**\n",
    "Input: nums = [1,2,2,4]\n",
    "Output: [2,3]"
   ]
  },
  {
   "cell_type": "code",
   "execution_count": 350,
   "id": "9be33a83",
   "metadata": {},
   "outputs": [
    {
     "data": {
      "text/plain": [
       "[2, 3]"
      ]
     },
     "execution_count": 350,
     "metadata": {},
     "output_type": "execute_result"
    }
   ],
   "source": [
    "class Error:\n",
    "    def findError(self, nums):\n",
    "        ans = [0,0]\n",
    "        for num in nums:\n",
    "            nums[(num - 1) % 10000] += 10000\n",
    "        for i in range(len(nums)):\n",
    "            if nums[i] > 20000: ans[0] = i + 1\n",
    "            elif nums[i] < 10001: ans[1] = i + 1\n",
    "        return ans\n",
    "\n",
    "nums= [1,2,2,4]\n",
    "S=Error()\n",
    "S.findError(nums)"
   ]
  },
  {
   "cell_type": "code",
   "execution_count": null,
   "id": "23720ecd",
   "metadata": {},
   "outputs": [],
   "source": []
  },
  {
   "cell_type": "code",
   "execution_count": null,
   "id": "0d546c3c",
   "metadata": {},
   "outputs": [],
   "source": []
  },
  {
   "cell_type": "code",
   "execution_count": 340,
   "id": "8ce955c4",
   "metadata": {},
   "outputs": [],
   "source": []
  },
  {
   "cell_type": "code",
   "execution_count": 342,
   "id": "585892f5",
   "metadata": {},
   "outputs": [
    {
     "data": {
      "text/plain": [
       "[2, 2]"
      ]
     },
     "execution_count": 342,
     "metadata": {},
     "output_type": "execute_result"
    }
   ],
   "source": []
  },
  {
   "cell_type": "code",
   "execution_count": null,
   "id": "83fd7a15",
   "metadata": {},
   "outputs": [],
   "source": []
  },
  {
   "cell_type": "code",
   "execution_count": null,
   "id": "189d2939",
   "metadata": {},
   "outputs": [],
   "source": []
  }
 ],
 "metadata": {
  "kernelspec": {
   "display_name": "Python 3 (ipykernel)",
   "language": "python",
   "name": "python3"
  },
  "language_info": {
   "codemirror_mode": {
    "name": "ipython",
    "version": 3
   },
   "file_extension": ".py",
   "mimetype": "text/x-python",
   "name": "python",
   "nbconvert_exporter": "python",
   "pygments_lexer": "ipython3",
   "version": "3.9.7"
  }
 },
 "nbformat": 4,
 "nbformat_minor": 5
}
