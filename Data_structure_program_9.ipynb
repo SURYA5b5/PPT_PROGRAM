{
 "cells": [
  {
   "cell_type": "markdown",
   "id": "fb195512",
   "metadata": {},
   "source": [
    "##1\n",
    "Given an integer `n`, return *`true` if it is a power of two. Otherwise, return `false`*.\n",
    "\n",
    "An integer `n` is a power of two, if there exists an integer `x` such that `n == 2x`.\n",
    "\n",
    "**Example 1:**\n",
    "Input: n = 1 \n",
    "\n",
    "Output: true\n",
    "\n",
    "**Example 2:**\n",
    "Input: n = 16 \n",
    "\n",
    "Output: true\n",
    "\n",
    "**Example 3:**\n",
    "Input: n = 3 \n",
    "\n",
    "Output: false"
   ]
  },
  {
   "cell_type": "code",
   "execution_count": 4,
   "id": "0d6f78a3",
   "metadata": {},
   "outputs": [
    {
     "data": {
      "text/plain": [
       "True"
      ]
     },
     "execution_count": 4,
     "metadata": {},
     "output_type": "execute_result"
    }
   ],
   "source": [
    "class assignment:\n",
    "    def power(self, n):\n",
    "        if n <= 0:\n",
    "            return False\n",
    "        if n == 1:\n",
    "            return True\n",
    "        \n",
    "        while n > 1:\n",
    "            n /= 2\n",
    "        return n == 1\n",
    "n=16\n",
    "s=assignment()\n",
    "s.power(n)"
   ]
  },
  {
   "cell_type": "markdown",
   "id": "d823b350",
   "metadata": {},
   "source": [
    "##2\n",
    "Given a number n, find the sum of the first natural numbers.\n",
    "\n",
    "**Example 1:**\n",
    "\n",
    "Input: n = 3 \n",
    "\n",
    "Output: 6\n",
    "\n",
    "**Example 2:**\n",
    "\n",
    "Input  : 5 \n",
    "\n",
    "Output : 15"
   ]
  },
  {
   "cell_type": "code",
   "execution_count": 7,
   "id": "177d393d",
   "metadata": {},
   "outputs": [
    {
     "data": {
      "text/plain": [
       "15"
      ]
     },
     "execution_count": 7,
     "metadata": {},
     "output_type": "execute_result"
    }
   ],
   "source": [
    "def findSum(n):\n",
    "    sum = 0\n",
    "    x = 1\n",
    "    while x <= n:\n",
    "        sum = sum + x\n",
    "        x = x + 1\n",
    "    return sum\n",
    "\n",
    "n = 5\n",
    "findSum(n)"
   ]
  },
  {
   "cell_type": "markdown",
   "id": "4585e48d",
   "metadata": {},
   "source": [
    "##3\n",
    "Given a positive integer, N. Find the factorial of N. \n",
    "\n",
    "**Example 1:**\n",
    "\n",
    "Input: N = 5 \n",
    "\n",
    "Output: 120\n",
    "\n",
    "**Example 2:**\n",
    "\n",
    "Input: N = 4\n",
    "\n",
    "Output: 24"
   ]
  },
  {
   "cell_type": "code",
   "execution_count": 9,
   "id": "380464be",
   "metadata": {},
   "outputs": [
    {
     "name": "stdout",
     "output_type": "stream",
     "text": [
      "Factorial of 5 is 120\n"
     ]
    }
   ],
   "source": [
    "def factorial(n):\n",
    "       \n",
    "    if n == 0:\n",
    "        return 1\n",
    "      \n",
    "    return n * factorial(n-1)\n",
    "\n",
    "num = 5;\n",
    "print(\"Factorial of\", num, \"is\",\n",
    "factorial(num))"
   ]
  },
  {
   "cell_type": "markdown",
   "id": "4d89d5ae",
   "metadata": {},
   "source": [
    "##4\n",
    "Given a number N and a power P, the task is to find the exponent of this number raised to the given power, i.e. N^P.\n",
    "\n",
    "**Example 1 :** \n",
    "\n",
    "Input: N = 5, P = 2\n",
    "\n",
    "Output: 25\n",
    "\n",
    "**Example 2 :**\n",
    "Input: N = 2, P = 5\n",
    "\n",
    "Output: 32"
   ]
  },
  {
   "cell_type": "code",
   "execution_count": 14,
   "id": "22213af8",
   "metadata": {},
   "outputs": [
    {
     "data": {
      "text/plain": [
       "32"
      ]
     },
     "execution_count": 14,
     "metadata": {},
     "output_type": "execute_result"
    }
   ],
   "source": [
    "def CalculatePower(N,p):\n",
    "    x=1\n",
    "    for i in range(1, p+1):\n",
    "        x=x*N\n",
    "    return x\n",
    "\n",
    "N=2\n",
    "p=5\n",
    "CalculatePower(N,p)"
   ]
  },
  {
   "cell_type": "markdown",
   "id": "0e0b339a",
   "metadata": {},
   "source": [
    "##5\n",
    "Given an array of integers **arr**, the task is to find maximum element of that array using recursion.\n",
    "\n",
    "**Example 1:**\n",
    "\n",
    "Input: arr = {1, 4, 3, -5, -4, 8, 6};\n",
    "Output: 8\n",
    "\n",
    "**Example 2:**\n",
    "\n",
    "Input: arr = {1, 4, 45, 6, 10, -8};\n",
    "Output: 45"
   ]
  },
  {
   "cell_type": "code",
   "execution_count": null,
   "id": "3b7e12aa",
   "metadata": {},
   "outputs": [],
   "source": [
    "def findMaximum(arr, low, high):\n",
    "    if low == high:\n",
    "        return arr[low]\n",
    "    \n",
    "    if high == low + 1 and arr[low] >= arr[high]:\n",
    "        return arr[low];\n",
    "\n",
    "    if high == low + 1 and arr[low] < arr[high]:\n",
    "        return arr[high]\n",
    "\n",
    "    mid = (low + high)//2\n",
    "    \n",
    "    if arr[mid] > arr[mid + 1] and arr[mid] > arr[mid - 1]:\n",
    "        return arr[mid]\n",
    "\n",
    "    if arr[mid] > arr[mid + 1] and arr[mid] < arr[mid - 1]:\n",
    "        return findMaximum(arr, low, mid-1)\n",
    "    else:\n",
    "        return findMaximum(arr, mid + 1, high)\n",
    "arr = [1, 4, 3, -5, -4, 8, 6];\n",
    "n = len(arr)\n",
    "findMaximum(arr, 0, n-1)"
   ]
  },
  {
   "cell_type": "markdown",
   "id": "df5ce311",
   "metadata": {},
   "source": [
    "##6\n",
    "Given first term (a), common difference (d) and a integer N of the Arithmetic Progression series, the task is to find Nth term of the series.\n",
    "\n",
    "**Example 1:**\n",
    "\n",
    "Input : a = 2 d = 1 N = 5\n",
    "Output : 6\n",
    "The 5th term of the series is : 6\n",
    "\n",
    "**Example 2:**\n",
    "\n",
    "Input : a = 5 d = 2 N = 10\n",
    "Output : 23\n",
    "The 10th term of the series is : 23"
   ]
  },
  {
   "cell_type": "code",
   "execution_count": 23,
   "id": "8b3e8172",
   "metadata": {},
   "outputs": [
    {
     "data": {
      "text/plain": [
       "6"
      ]
     },
     "execution_count": 23,
     "metadata": {},
     "output_type": "execute_result"
    }
   ],
   "source": [
    "def Nth_of_AP(a, d, N) :\n",
    "    return (a + (N - 1) * d)\n",
    "      \n",
    "a = 2\n",
    "d = 1\n",
    "N = 5\n",
    "Nth_of_AP(a, d, N)"
   ]
  },
  {
   "cell_type": "code",
   "execution_count": 24,
   "id": "3cc31057",
   "metadata": {},
   "outputs": [],
   "source": [
    "##7 \n",
    "\n",
    "Given a string S, the task is to write a program to print all permutations of a given string.\n",
    "\n",
    "**Example 1:**\n",
    "\n",
    "***Input:***\n",
    "\n",
    "*S = “ABC”*\n",
    "\n",
    "***Output:***\n",
    "\n",
    "*“ABC”, “ACB”, “BAC”, “BCA”, “CBA”, “CAB”*\n",
    "\n",
    "**Example 2:**\n",
    "\n",
    "***Input:***\n",
    "\n",
    "*S = “XY”*\n",
    "\n",
    "***Output:***\n",
    "\n",
    "*“XY”, “YX”*"
   ]
  },
  {
   "cell_type": "code",
   "execution_count": 25,
   "id": "6fef53df",
   "metadata": {},
   "outputs": [
    {
     "name": "stdout",
     "output_type": "stream",
     "text": [
      "ABC\n",
      "ACB\n",
      "BAC\n",
      "BCA\n",
      "CBA\n",
      "CAB\n"
     ]
    }
   ],
   "source": [
    "def toString(List):\n",
    "    return ''.join(List)\n",
    "\n",
    "def permute(a, l, r):\n",
    "    if l == r:\n",
    "        print(toString(a))\n",
    "    else:\n",
    "        for i in range(l, r):\n",
    "            a[l], a[i] = a[i], a[l]\n",
    "            permute(a, l+1, r)\n",
    "            a[l], a[i] = a[i], a[l] # backtrack\n",
    "\n",
    "\n",
    "string = \"ABC\"\n",
    "n = len(string)\n",
    "a = list(string)\n",
    "permute(a, 0, n)"
   ]
  },
  {
   "cell_type": "markdown",
   "id": "e6526eef",
   "metadata": {},
   "source": [
    "##8\n",
    "Given an array, find a product of all array elements.\n",
    "\n",
    "**Example 1:**\n",
    "\n",
    "Input  : arr[] = {1, 2, 3, 4, 5}\n",
    "Output : 120\n",
    "**Example 2:**\n",
    "\n",
    "Input  : arr[] = {1, 6, 3}\n",
    "Output : 18"
   ]
  },
  {
   "cell_type": "code",
   "execution_count": 28,
   "id": "596c1649",
   "metadata": {},
   "outputs": [
    {
     "name": "stdout",
     "output_type": "stream",
     "text": [
      "Array 1:\n",
      "1 2 3 4 5 \n",
      "Product of the array elements: 120\n"
     ]
    }
   ],
   "source": [
    "def findProduct(arr, size):\n",
    "    result = 1\n",
    "    for i in range(size):\n",
    "        result = result * arr[i]\n",
    "    return result\n",
    "\n",
    "arr1 = [1, 2, 3, 4, 5]\n",
    "size1 = len(arr1)\n",
    "print(\"Array 1:\")\n",
    "printListElements(arr1, size1)\n",
    "print(\"Product of the array elements:\", findProduct(arr1, size1))"
   ]
  },
  {
   "cell_type": "code",
   "execution_count": null,
   "id": "a8ef4e1c",
   "metadata": {},
   "outputs": [],
   "source": []
  }
 ],
 "metadata": {
  "kernelspec": {
   "display_name": "Python 3 (ipykernel)",
   "language": "python",
   "name": "python3"
  },
  "language_info": {
   "codemirror_mode": {
    "name": "ipython",
    "version": 3
   },
   "file_extension": ".py",
   "mimetype": "text/x-python",
   "name": "python",
   "nbconvert_exporter": "python",
   "pygments_lexer": "ipython3",
   "version": "3.9.7"
  }
 },
 "nbformat": 4,
 "nbformat_minor": 5
}
