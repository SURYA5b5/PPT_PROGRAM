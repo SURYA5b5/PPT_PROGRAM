{
 "cells": [
  {
   "cell_type": "markdown",
   "id": "8e98b5d0",
   "metadata": {},
   "source": [
    "1) Given an integer array nums of length n and an integer target, find three integers\n",
    "in nums such that the sum is closest to the target.\n",
    "Return the sum of the three integers.\n",
    "\n",
    "You may assume that each input would have exactly one solution.\n",
    "\n",
    "Example 1:\n",
    "Input: nums = [-1,2,1,-4], target = 1\n",
    "Output: 2\n",
    "\n",
    "Explanation: The sum that is closest to the target is 2. (-1 + 2 + 1 = 2)."
   ]
  },
  {
   "cell_type": "code",
   "execution_count": 28,
   "id": "e339d01d",
   "metadata": {},
   "outputs": [
    {
     "data": {
      "text/plain": [
       "2"
      ]
     },
     "execution_count": 28,
     "metadata": {},
     "output_type": "execute_result"
    }
   ],
   "source": [
    "def threeSumClosest(nums, target):\n",
    "    nums.sort()\n",
    "    n = len(nums)\n",
    "    closest = nums[0] + nums[1] + nums[n - 1]\n",
    "    for i in range(0, n - 2):\n",
    "        j = i + 1\n",
    "        k = n - 1\n",
    "        while j < k:\n",
    "            current_sum = nums[i] + nums[j] + nums[k]\n",
    "            if current_sum <= target:\n",
    "                j += 1\n",
    "            else:\n",
    "                k -= 1\n",
    "            if abs(closest - target) > abs(current_sum - target):\n",
    "                closest = current_sum\n",
    "    return closest\n",
    "\n",
    "nums = [-1,2,1,-4]\n",
    "target = 1\n",
    "threeSumClosest(nums,target)\n"
   ]
  },
  {
   "cell_type": "markdown",
   "id": "04642f24",
   "metadata": {},
   "source": [
    "2)Given an array nums of n integers, return an array of all the unique quadruplets\n",
    "[nums[a], nums[b], nums[c], nums[d]] such that:\n",
    "           ● 0 <= a, b, c, d < n\n",
    "           ● a, b, c, and d are distinct.\n",
    "           ● nums[a] + nums[b] + nums[c] + nums[d] == target\n",
    "\n",
    "You may return the answer in any order.\n",
    "\n",
    "Example 1:\n",
    "Input: nums = [1,0,-1,0,-2,2], target = 0\n",
    "Output: [[-2,-1,1,2],[-2,0,0,2],[-1,0,0,1]]"
   ]
  },
  {
   "cell_type": "code",
   "execution_count": 1,
   "id": "539af62c",
   "metadata": {},
   "outputs": [
    {
     "data": {
      "text/plain": [
       "[[-2, -1, 1, 2], [-2, 0, 0, 2], [-1, 0, 0, 1]]"
      ]
     },
     "execution_count": 1,
     "metadata": {},
     "output_type": "execute_result"
    }
   ],
   "source": [
    "def fourSum(nums,target):\n",
    "    quadruplets = []\n",
    "    if nums==0 or len(nums) < 4:\n",
    "        return quadruplets\n",
    "    nums.sort()\n",
    "    n = len(nums)\n",
    "    for i in range(0, n - 3):\n",
    "        if i > 0 and nums[i] == nums[i - 1]:\n",
    "            continue\n",
    "        for j in range(i + 1, n - 2):\n",
    "            if j != i + 1 and nums[j] == nums[j - 1]:\n",
    "                continue\n",
    "            k = j + 1\n",
    "            l = n - 1\n",
    "            while k < l:\n",
    "                current_sum = nums[i] + nums[j] + nums[k] + nums[l]\n",
    "                if current_sum < target:\n",
    "                    k += 1\n",
    "                elif current_sum > target:\n",
    "                    l -= 1\n",
    "                else:\n",
    "                    quadruplets.append([nums[i], nums[j], nums[k], nums[l]])\n",
    "                    k += 1\n",
    "                    l -= 1\n",
    "                    while k < l and nums[k] == nums[k - 1]:\n",
    "                        k += 1\n",
    "                    while k < l and nums[l] == nums[l + 1]:\n",
    "                        l -= 1\n",
    "    return quadruplets\n",
    "\n",
    "nums = [1,0,-1,0,-2,2]\n",
    "target = 0\n",
    "fourSum(nums,target)"
   ]
  },
  {
   "cell_type": "markdown",
   "id": "f522f6ee",
   "metadata": {},
   "source": [
    "3)  A permutation of an array of integers is an arrangement of its members into a\n",
    "sequence or linear order.\n",
    "\n",
    "For example, for arr = [1,2,3], the following are all the permutations of arr:\n",
    "[1,2,3], [1,3,2], [2, 1, 3], [2, 3, 1], [3,1,2], [3,2,1].\n",
    "\n",
    "The next permutation of an array of integers is the next lexicographically greater\n",
    "permutation of its integer. More formally, if all the permutations of the array are\n",
    "sorted in one container according to their lexicographical order, then the next\n",
    "permutation of that array is the permutation that follows it in the sorted container.\n",
    "\n",
    "If such an arrangement is not possible, the array must be rearranged as the\n",
    "lowest possible order (i.e., sorted in ascending order).\n",
    "\n",
    "● For example, the next permutation of arr = [1,2,3] is [1,3,2].\n",
    "● Similarly, the next permutation of arr = [2,3,1] is [3,1,2].\n",
    "● While the next permutation of arr = [3,2,1] is [1,2,3] because [3,2,1] does not\n",
    "have a lexicographical larger rearrangement.\n",
    "\n",
    "Given an array of integers nums, find the next permutation of nums.\n",
    "The replacement must be in place and use only constant extra memory.\n",
    "\n",
    "**Example 1:**\n",
    "Input: nums = [1,2,3]\n",
    "Output: [1,3,2]"
   ]
  },
  {
   "cell_type": "code",
   "execution_count": 5,
   "id": "6e66c6af",
   "metadata": {},
   "outputs": [
    {
     "name": "stdout",
     "output_type": "stream",
     "text": [
      "1 3 2 "
     ]
    }
   ],
   "source": [
    "# Python code to implement the above approach\n",
    "def swapPositions(list, pos1, pos2):\n",
    "    list[pos1], list[pos2] = list[pos2], list[pos1]\n",
    "    return list\n",
    "\n",
    "# Function to find the next permutation\n",
    "def nextPermutation(arr):\n",
    "    n = len(arr)\n",
    "    i = 0\n",
    "    j = 0\n",
    "\n",
    "    for i in range(n-2, -1, -1):\n",
    "        if (arr[i] < arr[i + 1]):\n",
    "            break\n",
    "\n",
    "    if (i < 0):\n",
    "        arr.reverse()\n",
    "    else:\n",
    "        for j in range(n-1, i, -1):\n",
    "            if (arr[j] > arr[i]):\n",
    "                break\n",
    "\n",
    "        swapPositions(arr, i, j)\n",
    "        \n",
    "        strt, end = i+1, len(arr)\n",
    "\n",
    "        arr[strt:end] = arr[strt:end][::-1]\n",
    "\n",
    "# Driver code\n",
    "if __name__ == \"__main__\":\n",
    "    arr = [1, 2, 3]\n",
    "\n",
    "    nextPermutation(arr)\n",
    "    \n",
    "    for i in arr:\n",
    "        print(i, end=\" \")"
   ]
  },
  {
   "cell_type": "markdown",
   "id": "e4792ab5",
   "metadata": {},
   "source": [
    "4) Given a sorted array of distinct integers and a target value, return the index if the\n",
    "target is found. If not, return the index where it would be if it were inserted in\n",
    "order.\n",
    "\n",
    "You must write an algorithm with O(log n) runtime complexity.\n",
    "\n",
    "Example 1:\n",
    "Input: nums = [1,3,5,6], target = 5\n",
    "Output: 2"
   ]
  },
  {
   "cell_type": "code",
   "execution_count": 7,
   "id": "02f33ebd",
   "metadata": {},
   "outputs": [
    {
     "data": {
      "text/plain": [
       "2"
      ]
     },
     "execution_count": 7,
     "metadata": {},
     "output_type": "execute_result"
    }
   ],
   "source": [
    "class simple:\n",
    "    def __init__(self,arr,target):\n",
    "        self.arr=arr\n",
    "        self.target=target\n",
    "    def find(self):\n",
    "        n=len(arr)\n",
    "        for i in range(n):\n",
    "            if arr[i] == target:\n",
    "                return i\n",
    "            elif arr[i] > target:\n",
    "                return i\n",
    "        return n\n",
    "arr = [1, 3, 5, 6]\n",
    "target = 5\n",
    "c=simple(arr,target)\n",
    "c.find()\n"
   ]
  },
  {
   "cell_type": "code",
   "execution_count": null,
   "id": "f03b9478",
   "metadata": {},
   "outputs": [],
   "source": [
    "5) You are given a large integer represented as an integer array digits, where each\n",
    "digits[i] is the ith digit of the integer. The digits are ordered from most significant\n",
    "to least significant in left-to-right order. The large integer does not contain any\n",
    "leading 0's.\n",
    "\n",
    "Increment the large integer by one and return the resulting array of digits.\n",
    "\n",
    "**Example 1:**\n",
    "Input: digits = [1,2,3]\n",
    "Output: [1,2,4]\n",
    "\n",
    "**Explanation:** The array represents the integer 123.\n",
    "Incrementing by one gives 123 + 1 = 124.\n",
    "Thus, the result should be [1,2,4]."
   ]
  },
  {
   "cell_type": "code",
   "execution_count": 8,
   "id": "7992d58d",
   "metadata": {},
   "outputs": [
    {
     "data": {
      "text/plain": [
       "[1, 2, 4]"
      ]
     },
     "execution_count": 8,
     "metadata": {},
     "output_type": "execute_result"
    }
   ],
   "source": [
    "class value:\n",
    "    def __init__(self,arr):\n",
    "        self.arr=arr\n",
    "    def show(self):\n",
    "        p=[e*10**i for i,e in enumerate(arr[::-1])]\n",
    "        s=sum(p)+1\n",
    "        d=list(map(int,str(s)))\n",
    "        return d\n",
    "arr=[1,2,3]\n",
    "v=value(arr)\n",
    "v.show()"
   ]
  },
  {
   "cell_type": "markdown",
   "id": "155b81b2",
   "metadata": {},
   "source": [
    "6) Given a non-empty array of integers nums, every element appears twice except\n",
    "for one. Find that single one.\n",
    "\n",
    "You must implement a solution with a linear runtime complexity and use only\n",
    "constant extra space.\n",
    "\n",
    "Example 1:\n",
    "Input: nums = [2,2,1]\n",
    "Output: 1"
   ]
  },
  {
   "cell_type": "code",
   "execution_count": 23,
   "id": "03cb116b",
   "metadata": {},
   "outputs": [
    {
     "data": {
      "text/plain": [
       "1"
      ]
     },
     "execution_count": 23,
     "metadata": {},
     "output_type": "execute_result"
    }
   ],
   "source": [
    "class value:\n",
    "    def __init__(self,arr):\n",
    "        self.arr=arr\n",
    "    def show(self):\n",
    "        n=len(arr)\n",
    "        for i in range(n):\n",
    "            count=0\n",
    "            for j in range(n):\n",
    "                if arr[i]==arr[j]:\n",
    "                    count=count+1\n",
    "            if count==1:\n",
    "                return arr[i]\n",
    "        return -1\n",
    "arr=[2,2,1]\n",
    "c=value(arr)\n",
    "c.show()"
   ]
  },
  {
   "cell_type": "markdown",
   "id": "50fca900",
   "metadata": {},
   "source": [
    "7) You are given an inclusive range [lower, upper] and a sorted unique integer array\n",
    "nums, where all elements are within the inclusive range.\n",
    "\n",
    "A number x is considered missing if x is in the range [lower, upper] and x is not in\n",
    "nums.\n",
    "\n",
    "Return the shortest sorted list of ranges that exactly covers all the missing\n",
    "numbers. That is, no element of nums is included in any of the ranges, and each\n",
    "missing number is covered by one of the ranges.\n",
    "\n",
    "Example 1:\n",
    "Input: nums = [0,1,3,50,75], lower = 0, upper = 99\n",
    "Output: [[2,2],[4,49],[51,74],[76,99]]\n",
    "\n",
    "Explanation: The ranges are:\n",
    "[2,2]\n",
    "[4,49]\n",
    "[51,74]\n",
    "[76,99]"
   ]
  },
  {
   "cell_type": "code",
   "execution_count": 24,
   "id": "0c023d78",
   "metadata": {},
   "outputs": [
    {
     "data": {
      "text/plain": [
       "[['2 2'], ['4 49'], ['51 74'], ['76 99']]"
      ]
     },
     "execution_count": 24,
     "metadata": {},
     "output_type": "execute_result"
    }
   ],
   "source": [
    "    def findMissingRanges(nums,lower,upper):\n",
    "        res = []\n",
    "        for num in nums:\n",
    "            if num > lower:\n",
    "                s = num - lower\n",
    "                if s > 1:\n",
    "                    res.append([str(lower)+' '+str(num-1)])\n",
    "                else:\n",
    "                    res.append([str(lower)+' '+str(num-1)])\n",
    "            if nums == upper:  # don't forget the case\n",
    "                return res\n",
    "            lower = num + 1\n",
    "        \n",
    "        if lower == upper:\n",
    "            res.append(str(lower))\n",
    "        elif lower < upper:\n",
    "            res.append([str(lower)+' '+str(upper)])\n",
    "        \n",
    "        return res\n",
    "    \n",
    "nums=[0,  1,  3, 50, 75]\n",
    "lower=0\n",
    "upper=99\n",
    "findMissingRanges(nums,lower,upper)"
   ]
  },
  {
   "cell_type": "markdown",
   "id": "4884edb5",
   "metadata": {},
   "source": [
    "8) Given an array of meeting time intervals where intervals[i] = [starti, endi],\n",
    "determine if a person could attend all meetings.\n",
    "\n",
    "Example 1:\n",
    "Input: intervals = [[0,30],[5,10],[15,20]]\n",
    "Output: false8) "
   ]
  },
  {
   "cell_type": "code",
   "execution_count": 28,
   "id": "e5c7062e",
   "metadata": {},
   "outputs": [
    {
     "data": {
      "text/plain": [
       "False"
      ]
     },
     "execution_count": 28,
     "metadata": {},
     "output_type": "execute_result"
    }
   ],
   "source": [
    "def minMeetingRooms(intervals):\n",
    "    intervals.sort()\n",
    "    rooms = [intervals[0][1]] # end time\n",
    "    for i in range(1, len(intervals)):\n",
    "            cur_start, cur_end = intervals[i]\n",
    "            for r_index in range(len(rooms)):\n",
    "                if cur_start >= rooms[r_index]:\n",
    "                    rooms[r_index] = cur_end\n",
    "                    break\n",
    "            else:\n",
    "                rooms.append(cur_end)\n",
    "            if (len(rooms))!=1:\n",
    "                k=False\n",
    "            else:\n",
    "                k=True\n",
    "                \n",
    "    return k \n",
    "intervals=[[0,30],[5,10],[15,20]]\n",
    "minMeetingRooms(intervals)"
   ]
  },
  {
   "cell_type": "code",
   "execution_count": null,
   "id": "d0e99154",
   "metadata": {},
   "outputs": [],
   "source": []
  }
 ],
 "metadata": {
  "kernelspec": {
   "display_name": "Python 3 (ipykernel)",
   "language": "python",
   "name": "python3"
  },
  "language_info": {
   "codemirror_mode": {
    "name": "ipython",
    "version": 3
   },
   "file_extension": ".py",
   "mimetype": "text/x-python",
   "name": "python",
   "nbconvert_exporter": "python",
   "pygments_lexer": "ipython3",
   "version": "3.9.7"
  }
 },
 "nbformat": 4,
 "nbformat_minor": 5
}
