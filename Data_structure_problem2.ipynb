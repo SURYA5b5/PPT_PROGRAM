{
 "cells": [
  {
   "cell_type": "markdown",
   "id": "7f6d7299",
   "metadata": {},
   "source": [
    " **Question 1**\n",
    "Given an integer array nums of 2n integers, group these integers into n pairs (a1, b1), (a2, b2),..., (an, bn) such that the sum of min(ai, bi) for all i is maximized. Return the maximized sum.\n",
    "\n",
    "**Example 1:**\n",
    "Input: nums = [1,4,3,2]\n",
    "Output: 4\n",
    "\n",
    "**Explanation:** All possible pairings (ignoring the ordering of elements) are:\n",
    "\n",
    "1. (1, 4), (2, 3) -> min(1, 4) + min(2, 3) = 1 + 2 = 3\n",
    "2. (1, 3), (2, 4) -> min(1, 3) + min(2, 4) = 1 + 2 = 3\n",
    "3. (1, 2), (3, 4) -> min(1, 2) + min(3, 4) = 1 + 3 = 4\n",
    "So the maximum possible sum is 4"
   ]
  },
  {
   "cell_type": "code",
   "execution_count": 6,
   "id": "fe956f6a",
   "metadata": {},
   "outputs": [
    {
     "data": {
      "text/plain": [
       "4"
      ]
     },
     "execution_count": 6,
     "metadata": {},
     "output_type": "execute_result"
    }
   ],
   "source": [
    "class neuron:\n",
    "    def __init__(self,num):\n",
    "        self.num=num\n",
    "    def arr(self):\n",
    "        num.sort()\n",
    "        r=0\n",
    "        for i in range(0,len(num),2):\n",
    "            r+=min(num[i],num[i+1])\n",
    "        return(r)\n",
    "num =[1,4,3,2]\n",
    "c=neuron(num)\n",
    "c.arr()"
   ]
  },
  {
   "cell_type": "markdown",
   "id": "c80b10e0",
   "metadata": {},
   "source": [
    " **Question 2**\n",
    "Alice has n candies, where the ith candy is of type candyType[i]. Alice noticed that she started to gain weight, so she visited a doctor. \n",
    "\n",
    "The doctor advised Alice to only eat n / 2 of the candies she has (n is always even). Alice likes her candies very much, and she wants to eat the maximum number of different types of candies while still following the doctor's advice. \n",
    "\n",
    "Given the integer array candyType of length n, return the maximum number of different types of candies she can eat if she only eats n / 2 of them.\n",
    "\n",
    "Example 1:\n",
    "Input: candyType = [1,1,2,2,3,3]\n",
    "Output: 3\n",
    "\n",
    "Explanation: Alice can only eat 6 / 2 = 3 candies. Since there are only 3 types, she can eat one of each type."
   ]
  },
  {
   "cell_type": "code",
   "execution_count": 3,
   "id": "fdd578e9",
   "metadata": {},
   "outputs": [
    {
     "data": {
      "text/plain": [
       "3"
      ]
     },
     "execution_count": 3,
     "metadata": {},
     "output_type": "execute_result"
    }
   ],
   "source": [
    "class neuro:\n",
    "    def __init__(self,num):\n",
    "        self.num=num\n",
    "    def arr(self):\n",
    "        n=min((len(num)//2),len(set(num)))\n",
    "        return n\n",
    "\n",
    "num=[1,1,2,2,3,3]\n",
    "n=neuro(num)\n",
    "n.arr()"
   ]
  },
  {
   "cell_type": "markdown",
   "id": "e25d7d50",
   "metadata": {},
   "source": [
    "Question 4\n",
    "You have a long flowerbed in which some of the plots are planted, and some are not.\n",
    "However, flowers cannot be planted in adjacent plots.\n",
    "Given an integer array flowerbed containing 0's and 1's, where 0 means empty and 1 means not empty, and an integer n, return true if n new flowers can be planted in the flowerbed without violating the no-adjacent-flowers rule and false otherwise.\n",
    "\n",
    "Example 1:\n",
    "Input: flowerbed = [1,0,0,0,1], n = 1\n",
    "Output: true"
   ]
  },
  {
   "cell_type": "code",
   "execution_count": 5,
   "id": "86e0a208",
   "metadata": {},
   "outputs": [
    {
     "data": {
      "text/plain": [
       "True"
      ]
     },
     "execution_count": 5,
     "metadata": {},
     "output_type": "execute_result"
    }
   ],
   "source": [
    "class Solution:\n",
    "    def Flowers(self, flowerbed, n):\n",
    "        for i in range(len(flowerbed)):\n",
    "            if flowerbed[i] == 0 and (i == 0 or flowerbed[i-1] == 0) and \\\n",
    "                (i == len(flowerbed)-1 or flowerbed[i+1] == 0):\n",
    "                flowerbed[i] = 1\n",
    "                n -= 1\n",
    "            if n <= 0:\n",
    "                return True\n",
    "        return False\n",
    "flowerbed = [1,0,0,0,1]\n",
    "n = 1\n",
    "c=Solution()\n",
    "c.Flowers(flowerbed,n)"
   ]
  },
  {
   "cell_type": "markdown",
   "id": "a4d50937",
   "metadata": {},
   "source": [
    "Question 5\n",
    "Given an integer array nums, find three numbers whose product is maximum and return the maximum product.\n",
    "\n",
    "Example 1:\n",
    "Input: nums = [1,2,3]\n",
    "Output: 6"
   ]
  },
  {
   "cell_type": "code",
   "execution_count": 7,
   "id": "9cd4e97e",
   "metadata": {},
   "outputs": [
    {
     "data": {
      "text/plain": [
       "6"
      ]
     },
     "execution_count": 7,
     "metadata": {},
     "output_type": "execute_result"
    }
   ],
   "source": [
    "class solution:\n",
    "    def __init__(self,l,n):\n",
    "        self.l=l\n",
    "        self.n=n\n",
    "    def program(self):\n",
    "        result=1\n",
    "        for i in range(n-2):\n",
    "            for j in range(i+1,n-1):\n",
    "                for k in range(j+1,n):\n",
    "                    t=l[i]*l[j]*l[k]\n",
    "                    result=max(t,result)\n",
    "        return result\n",
    "            \n",
    "l=[1,2,3]\n",
    "n=(len(l)) \n",
    "c=solution(l,n)\n",
    "c.program()"
   ]
  },
  {
   "cell_type": "markdown",
   "id": "47a646cd",
   "metadata": {},
   "source": [
    "Question 6\n",
    "Given an array of integers nums which is sorted in ascending order, and an integer target,\n",
    "write a function to search target in nums. If target exists, then return its index. Otherwise,\n",
    "return -1.\n",
    "\n",
    "You must write an algorithm with O(log n) runtime complexity.\n",
    "\n",
    "Input: nums = [-1,0,3,5,9,12], target = 9\n",
    "Output: 4\n",
    "\n",
    "Explanation: 9 exists in nums and its index is 4"
   ]
  },
  {
   "cell_type": "code",
   "execution_count": 9,
   "id": "2a60225d",
   "metadata": {},
   "outputs": [
    {
     "data": {
      "text/plain": [
       "4"
      ]
     },
     "execution_count": 9,
     "metadata": {},
     "output_type": "execute_result"
    }
   ],
   "source": [
    "class son:\n",
    "    def __init__(self,nums,target):\n",
    "        self.nums=nums\n",
    "        self.target=target\n",
    "    def k(self):\n",
    "        n=len(nums)\n",
    "        l=0\n",
    "        h=n-1\n",
    "        p=0\n",
    "        while l<=h:\n",
    "            p=round(l+(h-1)/2)\n",
    "            if(nums[p]==target):\n",
    "                return p\n",
    "            elif(target<nums[p]):\n",
    "                h=p-1\n",
    "            else:\n",
    "                l=p+1\n",
    "        return -1\n",
    "            \n",
    "nums=[-1,0,3,5,9,12]\n",
    "target = 9\n",
    "c=son(nums,target)\n",
    "c.k()"
   ]
  },
  {
   "cell_type": "markdown",
   "id": "c1762c31",
   "metadata": {},
   "source": [
    "Question 7\n",
    "An array is monotonic if it is either monotone increasing or monotone decreasing.\n",
    "\n",
    "An array nums is monotone increasing if for all i <= j, nums[i] <= nums[j]. An array nums is\n",
    "monotone decreasing if for all i <= j, nums[i] >= nums[j].\n",
    "\n",
    "Given an integer array nums, return true if the given array is monotonic, or false otherwise.\n",
    "\n",
    "Example 1:\n",
    "Input: nums = [1,2,2,3]\n",
    "Output: true"
   ]
  },
  {
   "cell_type": "code",
   "execution_count": null,
   "id": "e91edd14",
   "metadata": {},
   "outputs": [],
   "source": [
    "def check(arr):\n",
    "    N = len(arr)\n",
    "    inc = True\n",
    "    dec = True\n",
    "    for i in range(0, N-1):\n",
    "        if arr[i] > arr[i+1]:\n",
    "            inc = False\n",
    "    for i in range(0, N-1):\n",
    "        if arr[i] < arr[i+1]:\n",
    "            dec = False\n",
    "    return inc or dec\n",
    "\n",
    "arr = [1,2,2,3]\n",
    "ans = check(arr)\n",
    "if ans == True:\n",
    "    print(\"true\")\n",
    "else:\n",
    "    print(\"false\")"
   ]
  },
  {
   "cell_type": "markdown",
   "id": "7e106b14",
   "metadata": {},
   "source": [
    "Question 8\n",
    "You are given an integer array nums and an integer k.\n",
    "\n",
    "In one operation, you can choose any index i where 0 <= i < nums.length and change nums[i] to nums[i] + x where x is an integer from the range [-k, k]. You can apply this operation at most once for each index i.\n",
    "\n",
    "The score of nums is the difference between the maximum and minimum elements in nums.\n",
    "\n",
    "Return the minimum score of nums after applying the mentioned operation at most once for each index in it.\n",
    "\n",
    "Example 1:\n",
    "Input: nums = [1], k = 0\n",
    "Output: 0\n",
    "\n",
    "Explanation: The score is max(nums) - min(nums) = 1 - 1 = 0."
   ]
  },
  {
   "cell_type": "code",
   "execution_count": 10,
   "id": "8339867b",
   "metadata": {},
   "outputs": [
    {
     "data": {
      "text/plain": [
       "0"
      ]
     },
     "execution_count": 10,
     "metadata": {},
     "output_type": "execute_result"
    }
   ],
   "source": [
    "class solution:\n",
    "    def __init__(self,nums,k):\n",
    "        self.nums=nums\n",
    "        self.k=k\n",
    "    def small(self):\n",
    "        big=max(nums)-k\n",
    "        tiny=min(nums)+k\n",
    "        difference=big-tiny\n",
    "        if difference <0:\n",
    "            return 0\n",
    "        else:\n",
    "            return difference\n",
    "nums=[1]\n",
    "k=0\n",
    "c=solution(nums,k)\n",
    "c.small()"
   ]
  },
  {
   "cell_type": "code",
   "execution_count": null,
   "id": "4d30d082",
   "metadata": {},
   "outputs": [],
   "source": []
  }
 ],
 "metadata": {
  "kernelspec": {
   "display_name": "Python 3 (ipykernel)",
   "language": "python",
   "name": "python3"
  },
  "language_info": {
   "codemirror_mode": {
    "name": "ipython",
    "version": 3
   },
   "file_extension": ".py",
   "mimetype": "text/x-python",
   "name": "python",
   "nbconvert_exporter": "python",
   "pygments_lexer": "ipython3",
   "version": "3.9.7"
  }
 },
 "nbformat": 4,
 "nbformat_minor": 5
}
