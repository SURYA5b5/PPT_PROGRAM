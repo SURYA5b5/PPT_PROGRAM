{
 "cells": [
  {
   "cell_type": "markdown",
   "id": "d9d946cd",
   "metadata": {},
   "source": [
    "A permutation perm of n + 1 integers of all the integers in the range [0, n] can be represented as a string s of length n where:\n",
    "\n",
    "- s[i] == 'I' if perm[i] < perm[i + 1], and\n",
    "- s[i] == 'D' if perm[i] > perm[i + 1].\n",
    "\n",
    "Given a string s, reconstruct the permutation perm and return it. If there are multiple valid permutations perm, return **any of them**.\n",
    "\n",
    "**Example 1:**\n",
    "\n",
    "**Input:** s = \"IDID\"\n",
    "\n",
    "**Output:**\n",
    "\n",
    "[0,4,1,3,2]"
   ]
  },
  {
   "cell_type": "code",
   "execution_count": 3,
   "id": "873736f3",
   "metadata": {},
   "outputs": [
    {
     "data": {
      "text/plain": [
       "[0, 4, 1, 3, 2]"
      ]
     },
     "execution_count": 3,
     "metadata": {},
     "output_type": "execute_result"
    }
   ],
   "source": [
    "class Solution:\n",
    "    def diStringMatch(self, S):\n",
    "        mini=0\n",
    "        maxi=len(S)\n",
    "        l=[]\n",
    "        \n",
    "        for i in S:\n",
    "            if i==\"I\":\n",
    "                l.append(mini)\n",
    "                mini+=1\n",
    "            else:\n",
    "                l.append(maxi)\n",
    "                maxi-=1\n",
    "        return l+[maxi]\n",
    "s=\"IDID\"\n",
    "c=Solution()\n",
    "c.diStringMatch(s)"
   ]
  },
  {
   "cell_type": "markdown",
   "id": "e8b4c5cf",
   "metadata": {},
   "source": [
    "##2You are given an m x n integer matrix matrix with the following two properties:\n",
    "\n",
    "- Each row is sorted in non-decreasing order.\n",
    "- The first integer of each row is greater than the last integer of the previous row.\n",
    "\n",
    "Given an integer target, return true *if* target *is in* matrix *or* false *otherwise*.\n",
    "\n",
    "You must write a solution in O(log(m * n)) time complexity."
   ]
  },
  {
   "cell_type": "code",
   "execution_count": 6,
   "id": "4d3f8718",
   "metadata": {},
   "outputs": [
    {
     "data": {
      "text/plain": [
       "True"
      ]
     },
     "execution_count": 6,
     "metadata": {},
     "output_type": "execute_result"
    }
   ],
   "source": [
    "def searchMatrix(matrix, target):\n",
    "        if len(matrix) == 0 or len(matrix[0]) == 0:\n",
    "            return False\n",
    "\n",
    "        row = []\n",
    "        # store the row with great or equal value to the target\n",
    "        for record in matrix:\n",
    "            if record[-1] >= target:\n",
    "                row = record\n",
    "                break\n",
    "        \n",
    "        # iterate through the row until you find the target\n",
    "        for element in row[::-1]:\n",
    "            if element == target:\n",
    "                return True\n",
    "            \n",
    "matrix = [[1,3,5,7],[10,11,16,20],[23,30,34,60]]\n",
    "target = 3\n",
    "searchMatrix(matrix,target)"
   ]
  },
  {
   "cell_type": "markdown",
   "id": "6986b9a3",
   "metadata": {},
   "source": [
    "Given an array of integers arr, return *true if and only if it is a valid mountain array*.\n",
    "\n",
    "Recall that arr is a mountain array if and only if:\n",
    "\n",
    "- arr.length >= 3\n",
    "- There exists some i with 0 < i < arr.length - 1 such that:\n",
    "    - arr[0] < arr[1] < ... < arr[i - 1] < arr[i]\n",
    "    - arr[i] > arr[i + 1] > ... > arr[arr.length - 1]"
   ]
  },
  {
   "cell_type": "code",
   "execution_count": 22,
   "id": "59338e04",
   "metadata": {},
   "outputs": [
    {
     "data": {
      "text/plain": [
       "False"
      ]
     },
     "execution_count": 22,
     "metadata": {},
     "output_type": "execute_result"
    }
   ],
   "source": [
    "class Solution:\n",
    "    def validMountainArray(self, arr):\n",
    "        n = len(arr)\n",
    "        if n < 3:\n",
    "            return False\n",
    "        l, r = 0, n - 1\n",
    "        while l + 1 < n - 1 and arr[l] < arr[l + 1]:\n",
    "            l += 1\n",
    "        while r - 1 > 0 and arr[r] < arr[r - 1]:\n",
    "            r -= 1\n",
    "        return l == r\n",
    "arr=[2,1]\n",
    "s=Solution()\n",
    "s.validMountainArray(arr)"
   ]
  },
  {
   "cell_type": "markdown",
   "id": "76ea6718",
   "metadata": {},
   "source": [
    "Given a binary array nums, return *the maximum length of a contiguous subarray with an equal number of* 0 *and* 1.\n",
    "\n",
    "**Example 1:**\n",
    "\n",
    "**Input:** nums = [0,1]\n",
    "\n",
    "**Output:** 2\n",
    "\n",
    "**Explanation:**\n",
    "\n",
    "[0, 1] is the longest contiguous subarray with an equal number of 0 and 1."
   ]
  },
  {
   "cell_type": "code",
   "execution_count": 11,
   "id": "ff5fbf82",
   "metadata": {},
   "outputs": [
    {
     "name": "stdout",
     "output_type": "stream",
     "text": [
      "0 to 1\n"
     ]
    },
    {
     "data": {
      "text/plain": [
       "2"
      ]
     },
     "execution_count": 11,
     "metadata": {},
     "output_type": "execute_result"
    }
   ],
   "source": [
    "def findSubArray(arr, n):\n",
    "\n",
    "    sum = 0\n",
    "    maxsize = -1\n",
    "\n",
    "    # Pick a starting point as i\n",
    "\n",
    "    for i in range(0, n-1):\n",
    "        \n",
    "        sum = -1 if(arr[i] == 0) else 1\n",
    "\n",
    "# Consider all subarrays starting from i\n",
    "\n",
    "        for j in range(i + 1, n):\n",
    "            sum = sum + (-1) if (arr[j] == 0) else sum + 1\n",
    "\n",
    "\n",
    "            if (sum == 0 and maxsize < j-i + 1):\n",
    "                maxsize = j - i + 1\n",
    "                startindex = i\n",
    "                \n",
    "    if (maxsize == -1):\n",
    "        print(\"No such subarray\");\n",
    "    else:\n",
    "        print(startindex, \"to\", startindex + maxsize-1);\n",
    "\n",
    "    return maxsize\n",
    "\n",
    "# Driver program to test above functions\n",
    "arr = [0,1]\n",
    "size = len(arr)\n",
    "findSubArray(arr, size)"
   ]
  },
  {
   "cell_type": "markdown",
   "id": "d90fa3c2",
   "metadata": {},
   "source": [
    "The **product sum** of two equal-length arrays a and b is equal to the sum of a[i] * b[i] for all 0 <= i < a.length (**0-indexed**).\n",
    "\n",
    "- For example, if a = [1,2,3,4] and b = [5,2,3,1], the **product sum** would be 1*5 + 2*2 + 3*3 + 4*1 = 22.\n",
    "\n",
    "Given two arrays nums1 and nums2 of length n, return *the **minimum product sum** if you are allowed to **rearrange** the **order** of the elements in* nums1.\n",
    "\n",
    "**Example 1:**\n",
    "\n",
    "**Input:** nums1 = [5,3,4,2], nums2 = [4,2,2,5]\n",
    "\n",
    "**Output:** 40\n",
    "\n",
    "**Explanation:**\n",
    "\n",
    "We can rearrange nums1 to become [3,5,4,2]. The product sum of [3,5,4,2] and [4,2,2,5] is 3*4 + 5*2 + 4*2 + 2*5 = 40."
   ]
  },
  {
   "cell_type": "code",
   "execution_count": 16,
   "id": "38db0098",
   "metadata": {},
   "outputs": [
    {
     "name": "stdout",
     "output_type": "stream",
     "text": [
      "40\n"
     ]
    }
   ],
   "source": [
    "def minValue(nums1, nums2, n):\n",
    "    nums1.sort()\n",
    "    nums2.sort()\n",
    "    \n",
    "    result = 0\n",
    "    for i in range(n):\n",
    "        result += (nums1[i] * nums2[n - i - 1])\n",
    "\n",
    "    return result\n",
    "\n",
    "nums1 = [5,3,4,2]\n",
    "nums2 = [4,2,2,5]\n",
    "n = len(nums1)\n",
    "print (minValue(nums1, nums2, n))"
   ]
  },
  {
   "cell_type": "markdown",
   "id": "9b63f58f",
   "metadata": {},
   "source": [
    "An integer array original is transformed into a **doubled** array changed by appending **twice the value** of every element in original, and then randomly **shuffling** the resulting array.\n",
    "\n",
    "Given an array changed, return original *if* changed *is a **doubled** array. If* changed *is not a **doubled** array, return an empty array. The elements in* original *may be returned in **any** order*.\n",
    "\n",
    "**Example 1:**\n",
    "\n",
    "**Input:** changed = [1,3,4,2,6,8]\n",
    "\n",
    "**Output:** [1,3,4]\n",
    "\n",
    "**Explanation:** One possible original array could be [1,3,4]:\n",
    "\n",
    "- Twice the value of 1 is 1 * 2 = 2.\n",
    "- Twice the value of 3 is 3 * 2 = 6.\n",
    "- Twice the value of 4 is 4 * 2 = 8.\n",
    "\n",
    "Other original arrays could be [4,3,1] or [3,1,4]."
   ]
  },
  {
   "cell_type": "code",
   "execution_count": 18,
   "id": "6cfc53fb",
   "metadata": {},
   "outputs": [
    {
     "name": "stdout",
     "output_type": "stream",
     "text": [
      "1 3 4 "
     ]
    }
   ],
   "source": [
    "def findOriginal(changed):\n",
    "    numFreq = {}\n",
    "\n",
    "    for i in range(0, len(changed)):\n",
    "        if (changed[i] in numFreq):\n",
    "            numFreq[changed[i]] += 1\n",
    "        else:\n",
    "            numFreq[changed[i]] = 1\n",
    "\n",
    "    changed.sort()\n",
    "\n",
    "    res = []\n",
    "\n",
    "    for i in range(0, len(changed)):\n",
    "        freq = numFreq[changed[i]]\n",
    "        if (freq > 0):\n",
    "            res.append(changed[i])\n",
    "\n",
    "            numFreq[changed[i]] -= 1\n",
    "\n",
    "            twice = 2 * changed[i]\n",
    "\n",
    "            numFreq[twice] -= 1\n",
    "\n",
    "    return res\n",
    "\n",
    "\n",
    "changed = [1,3,4,2,6,8]\n",
    "res = findOriginal(changed)\n",
    "\n",
    "\n",
    "for i in range(0, len(res)):\n",
    "    print(res[i], end=\" \")"
   ]
  },
  {
   "cell_type": "code",
   "execution_count": null,
   "id": "fe3b2840",
   "metadata": {},
   "outputs": [],
   "source": [
    "Given a positive integer n, generate an n x n matrix filled with elements from 1 to n2 in spiral order.\n",
    "\n",
    "**Example 1:**"
   ]
  },
  {
   "cell_type": "code",
   "execution_count": 25,
   "id": "a7a09d39",
   "metadata": {},
   "outputs": [
    {
     "data": {
      "text/plain": [
       "[[1, 2, 3], [8, 9, 4], [7, 6, 5]]"
      ]
     },
     "execution_count": 25,
     "metadata": {},
     "output_type": "execute_result"
    }
   ],
   "source": [
    "class Solution:\n",
    "    def generateMatrix(self, n):\n",
    "        direction = [[0,1],[1,0],[0,-1],[-1,0]]\n",
    "        v = 1\n",
    "        d = 0\n",
    "        res = [[0] * n for _ in range(n)]\n",
    "        i = j = 0\n",
    "        while v <= n * n:\n",
    "            res[i][j] = v\n",
    "            v += 1\n",
    "            ni, nj = i + direction[d][0], j + direction[d][1]\n",
    "            if 0 <= ni < n and 0 <= nj < n and res[ni][nj] == 0:\n",
    "                i, j = ni, nj\n",
    "            else:\n",
    "                d = (d + 1) % 4\n",
    "                i, j = i + direction[d][0], j + direction[d][1]\n",
    "        return res\n",
    "\n",
    "n = 3\n",
    "s=Solution()\n",
    "s.generateMatrix(n)"
   ]
  },
  {
   "cell_type": "code",
   "execution_count": 86,
   "id": "5e796412",
   "metadata": {},
   "outputs": [],
   "source": []
  },
  {
   "cell_type": "code",
   "execution_count": null,
   "id": "25ab5d54",
   "metadata": {},
   "outputs": [],
   "source": []
  },
  {
   "cell_type": "code",
   "execution_count": null,
   "id": "ae6afc6c",
   "metadata": {},
   "outputs": [],
   "source": []
  },
  {
   "cell_type": "code",
   "execution_count": null,
   "id": "63d10545",
   "metadata": {},
   "outputs": [],
   "source": []
  },
  {
   "cell_type": "code",
   "execution_count": null,
   "id": "e608e940",
   "metadata": {},
   "outputs": [],
   "source": []
  },
  {
   "cell_type": "code",
   "execution_count": null,
   "id": "8591842c",
   "metadata": {},
   "outputs": [],
   "source": []
  },
  {
   "cell_type": "code",
   "execution_count": null,
   "id": "abaff43b",
   "metadata": {},
   "outputs": [],
   "source": []
  },
  {
   "cell_type": "code",
   "execution_count": null,
   "id": "53ee1956",
   "metadata": {},
   "outputs": [],
   "source": []
  },
  {
   "cell_type": "code",
   "execution_count": null,
   "id": "3f17b5a2",
   "metadata": {},
   "outputs": [],
   "source": []
  },
  {
   "cell_type": "code",
   "execution_count": null,
   "id": "34da7afb",
   "metadata": {},
   "outputs": [],
   "source": []
  },
  {
   "cell_type": "code",
   "execution_count": null,
   "id": "b71b7751",
   "metadata": {},
   "outputs": [],
   "source": []
  },
  {
   "cell_type": "code",
   "execution_count": 136,
   "id": "25ee1b80",
   "metadata": {},
   "outputs": [],
   "source": []
  },
  {
   "cell_type": "code",
   "execution_count": null,
   "id": "8ad0fc29",
   "metadata": {},
   "outputs": [],
   "source": []
  },
  {
   "cell_type": "code",
   "execution_count": null,
   "id": "ebe970ad",
   "metadata": {},
   "outputs": [],
   "source": []
  },
  {
   "cell_type": "code",
   "execution_count": null,
   "id": "89c24a88",
   "metadata": {},
   "outputs": [],
   "source": []
  },
  {
   "cell_type": "code",
   "execution_count": null,
   "id": "764f5d4a",
   "metadata": {},
   "outputs": [],
   "source": []
  },
  {
   "cell_type": "code",
   "execution_count": null,
   "id": "a25414ce",
   "metadata": {},
   "outputs": [],
   "source": []
  },
  {
   "cell_type": "code",
   "execution_count": null,
   "id": "d5299239",
   "metadata": {},
   "outputs": [],
   "source": []
  },
  {
   "cell_type": "code",
   "execution_count": null,
   "id": "2a4a3e26",
   "metadata": {},
   "outputs": [],
   "source": []
  },
  {
   "cell_type": "code",
   "execution_count": 341,
   "id": "0ad0609f",
   "metadata": {},
   "outputs": [],
   "source": [
    "\n"
   ]
  },
  {
   "cell_type": "code",
   "execution_count": null,
   "id": "9ab8b19b",
   "metadata": {},
   "outputs": [],
   "source": []
  },
  {
   "cell_type": "code",
   "execution_count": null,
   "id": "e279469b",
   "metadata": {},
   "outputs": [],
   "source": []
  },
  {
   "cell_type": "code",
   "execution_count": null,
   "id": "cc413ead",
   "metadata": {},
   "outputs": [],
   "source": []
  },
  {
   "cell_type": "code",
   "execution_count": null,
   "id": "1241ce05",
   "metadata": {},
   "outputs": [],
   "source": []
  },
  {
   "cell_type": "code",
   "execution_count": null,
   "id": "6c3eb2fb",
   "metadata": {},
   "outputs": [],
   "source": []
  },
  {
   "cell_type": "code",
   "execution_count": null,
   "id": "7da4d004",
   "metadata": {},
   "outputs": [],
   "source": []
  }
 ],
 "metadata": {
  "kernelspec": {
   "display_name": "Python 3 (ipykernel)",
   "language": "python",
   "name": "python3"
  },
  "language_info": {
   "codemirror_mode": {
    "name": "ipython",
    "version": 3
   },
   "file_extension": ".py",
   "mimetype": "text/x-python",
   "name": "python",
   "nbconvert_exporter": "python",
   "pygments_lexer": "ipython3",
   "version": "3.9.7"
  }
 },
 "nbformat": 4,
 "nbformat_minor": 5
}
