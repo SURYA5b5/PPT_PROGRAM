{
 "cells": [
  {
   "cell_type": "code",
   "execution_count": null,
   "id": "10d6bbac",
   "metadata": {},
   "outputs": [],
   "source": [
    "##1"
   ]
  },
  {
   "cell_type": "code",
   "execution_count": 3,
   "id": "d5af31b3",
   "metadata": {},
   "outputs": [
    {
     "name": "stdout",
     "output_type": "stream",
     "text": [
      "True\n"
     ]
    }
   ],
   "source": [
    "def areIsomorphic(s,t):\n",
    "    charCount = dict()\n",
    "    c = \"a\"\n",
    "\n",
    "    for i in range(len(s)):\n",
    "        if s[i] in charCount:\n",
    "            c = charCount[s[i]]\n",
    "            if c != t[i]:\n",
    "                return False\n",
    "        \n",
    "        elif t[i] not in charCount.values():\n",
    "            charCount[s[i]] = t[i]\n",
    "        else:\n",
    "            return False\n",
    "    return True\n",
    "\n",
    "\n",
    "s = \"egg\"\n",
    "t = \"add\"\n",
    "\n",
    "if (len(s) == len(t) and areIsomorphic(s, t)):\n",
    "    print(\"True\")\n",
    "else:\n",
    "    print(\"False\")"
   ]
  },
  {
   "cell_type": "code",
   "execution_count": 4,
   "id": "f3624f46",
   "metadata": {},
   "outputs": [],
   "source": [
    "##2"
   ]
  },
  {
   "cell_type": "code",
   "execution_count": 12,
   "id": "3db0c00a",
   "metadata": {},
   "outputs": [
    {
     "data": {
      "text/plain": [
       "True"
      ]
     },
     "execution_count": 12,
     "metadata": {},
     "output_type": "execute_result"
    }
   ],
   "source": [
    "class solution:\n",
    "    def isStrobogrammatic(self, num):\n",
    "      \n",
    "        maps = {(\"0\", \"0\"), (\"1\", \"1\"), (\"6\", \"9\"), (\"8\", \"8\"), (\"9\", \"6\")}\n",
    "        i,j = 0, len(s) - 1\n",
    "        while i <= j:\n",
    "            if (num[i], num[j]) not in maps:\n",
    "                return False\n",
    "            i += 1\n",
    "            j -= 1\n",
    "        return True\n",
    "num='69'\n",
    "d=solution()\n",
    "d.isStrobogrammatic(num)"
   ]
  },
  {
   "cell_type": "code",
   "execution_count": 13,
   "id": "b278eee3",
   "metadata": {},
   "outputs": [],
   "source": [
    "##3"
   ]
  },
  {
   "cell_type": "code",
   "execution_count": 19,
   "id": "f6b8465b",
   "metadata": {},
   "outputs": [
    {
     "data": {
      "text/plain": [
       "'134'"
      ]
     },
     "execution_count": 19,
     "metadata": {},
     "output_type": "execute_result"
    }
   ],
   "source": [
    "class solution:\n",
    "    def BigInteger(self,num1,num2):\n",
    "        num1=int(num1)\n",
    "        num2=int(num2)\n",
    "        num3=num1+num2\n",
    "        num3=str(num3)\n",
    "        return num3\n",
    "num1='11'\n",
    "num2='123'\n",
    "s=solution()\n",
    "s.BigInteger(num1,num2)"
   ]
  },
  {
   "cell_type": "code",
   "execution_count": null,
   "id": "c33e152a",
   "metadata": {},
   "outputs": [],
   "source": [
    "##4"
   ]
  },
  {
   "cell_type": "code",
   "execution_count": 46,
   "id": "243f981b",
   "metadata": {},
   "outputs": [
    {
     "data": {
      "text/plain": [
       "\"s'teL ekat edoCteeL tsetnoc\""
      ]
     },
     "execution_count": 46,
     "metadata": {},
     "output_type": "execute_result"
    }
   ],
   "source": [
    "class Solution:\n",
    "    def reverse(self, s):\n",
    "        return \" \".join(s.split(\" \")[::-1])[::-1]\n",
    "s = \"Let's take LeetCode contest\"\n",
    "d=Solution()\n",
    "d.reverse(s)"
   ]
  },
  {
   "cell_type": "code",
   "execution_count": null,
   "id": "bbe30b22",
   "metadata": {},
   "outputs": [],
   "source": [
    "## 5"
   ]
  },
  {
   "cell_type": "code",
   "execution_count": 49,
   "id": "71a956bb",
   "metadata": {},
   "outputs": [
    {
     "name": "stdout",
     "output_type": "stream",
     "text": [
      "cbadefg\n"
     ]
    }
   ],
   "source": [
    "class Solution:\n",
    "    def reverseStr(self, s, k):\n",
    "        l = list(s)\n",
    "        i = k-1\n",
    "        while i < len(l)+k:\n",
    "            a = l[:i-k+1]\n",
    "            b = l[i-k+1:i+1]\n",
    "            c = l[i+1:]\n",
    "            l = a + b[::-1] + c\n",
    "            i += 2*k\n",
    "        return ''.join(l)\n",
    "\n",
    "ob = Solution()\n",
    "print(ob.reverseStr(\"abcdefg\", 3))"
   ]
  },
  {
   "cell_type": "code",
   "execution_count": 50,
   "id": "e138a1bf",
   "metadata": {},
   "outputs": [],
   "source": [
    "##6"
   ]
  },
  {
   "cell_type": "code",
   "execution_count": 51,
   "id": "12369f89",
   "metadata": {},
   "outputs": [
    {
     "data": {
      "text/plain": [
       "True"
      ]
     },
     "execution_count": 51,
     "metadata": {},
     "output_type": "execute_result"
    }
   ],
   "source": [
    "class Solution :\n",
    "    def  rotateString(self, s,  goal) :\n",
    "        return (len(s) == len(goal) and  goal in (s + s) )\n",
    "    \n",
    "s = \"abcde\"\n",
    "goal = \"cdeab\"\n",
    "k=Solution()\n",
    "k.rotateString(s,goal)"
   ]
  },
  {
   "cell_type": "code",
   "execution_count": 52,
   "id": "7817c030",
   "metadata": {},
   "outputs": [],
   "source": [
    "##7"
   ]
  },
  {
   "cell_type": "code",
   "execution_count": 56,
   "id": "9bb7c22d",
   "metadata": {},
   "outputs": [
    {
     "data": {
      "text/plain": [
       "True"
      ]
     },
     "execution_count": 56,
     "metadata": {},
     "output_type": "execute_result"
    }
   ],
   "source": [
    "class Solution:\n",
    "    def backspaceCompare(self, S, T):\n",
    "        def bckspc(string):\n",
    "            stack=[]\n",
    "            for i in string:\n",
    "                if i =='#':\n",
    "                    try:\n",
    "                        stack.pop()\n",
    "                    except:\n",
    "                        pass\n",
    "                else:\n",
    "                    stack.append(i)\n",
    "            return ''.join(stack)\n",
    "\n",
    "        return (bckspc(S)==bckspc(T))\n",
    "    \n",
    "S = \"ab#c\"\n",
    "T = \"ad#c\"\n",
    "k=Solution()\n",
    "k.backspaceCompare(S,T)"
   ]
  },
  {
   "cell_type": "code",
   "execution_count": null,
   "id": "b3441bee",
   "metadata": {},
   "outputs": [],
   "source": [
    "##8"
   ]
  },
  {
   "cell_type": "code",
   "execution_count": 61,
   "id": "03535fac",
   "metadata": {},
   "outputs": [
    {
     "name": "stdout",
     "output_type": "stream",
     "text": [
      "YES"
     ]
    },
    {
     "data": {
      "text/plain": [
       "True"
      ]
     },
     "execution_count": 61,
     "metadata": {},
     "output_type": "execute_result"
    }
   ],
   "source": [
    "def isStraightLinePossible(arr, n):\n",
    "    x0 = arr[0][0]\n",
    "    y0 = arr[0][1]\n",
    "\n",
    "    x1 = arr[1][0]\n",
    "    y1 = arr[1][1]\n",
    "\n",
    "    dx = x1 - x0\n",
    "    dy = y1 - y0\n",
    "\n",
    "    for i in range(n):\n",
    "        x = arr[i][0]\n",
    "        y = arr[i][1]\n",
    "        \n",
    "        if (dx * (y - y1) != dy * (x - x1)):\n",
    "            print(\"NO\", end = \"\")\n",
    "            return False\n",
    "\n",
    "    print(\"YES\", end = \"\")\n",
    "    return True\n",
    "\n",
    "\n",
    "arr =  [[1,2],[2,3],[3,4],[4,5],[5,6],[6,7]]\n",
    "n = 4\n",
    "isStraightLinePossible(arr, n)"
   ]
  },
  {
   "cell_type": "code",
   "execution_count": null,
   "id": "0a071b20",
   "metadata": {},
   "outputs": [],
   "source": []
  }
 ],
 "metadata": {
  "kernelspec": {
   "display_name": "Python 3 (ipykernel)",
   "language": "python",
   "name": "python3"
  },
  "language_info": {
   "codemirror_mode": {
    "name": "ipython",
    "version": 3
   },
   "file_extension": ".py",
   "mimetype": "text/x-python",
   "name": "python",
   "nbconvert_exporter": "python",
   "pygments_lexer": "ipython3",
   "version": "3.9.7"
  }
 },
 "nbformat": 4,
 "nbformat_minor": 5
}
