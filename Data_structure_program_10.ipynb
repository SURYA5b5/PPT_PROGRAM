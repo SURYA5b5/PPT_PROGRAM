{
 "cells": [
  {
   "cell_type": "code",
   "execution_count": null,
   "id": "12b374bb",
   "metadata": {},
   "outputs": [],
   "source": [
    "##1"
   ]
  },
  {
   "cell_type": "code",
   "execution_count": 4,
   "id": "70e7b872",
   "metadata": {},
   "outputs": [
    {
     "data": {
      "text/plain": [
       "True"
      ]
     },
     "execution_count": 4,
     "metadata": {},
     "output_type": "execute_result"
    }
   ],
   "source": [
    "class start(object):\n",
    "    def power(self, n):\n",
    "        if n == 1:\n",
    "            return True\n",
    "        elif n < 3:\n",
    "            return False\n",
    "        \n",
    "        if not n%3:\n",
    "            return self.power(n/3)\n",
    "        return False\n",
    "n=27\n",
    "s=start()\n",
    "s.power(n)"
   ]
  },
  {
   "cell_type": "markdown",
   "id": "139cb110",
   "metadata": {},
   "source": [
    "**Question 2**\n",
    "\n",
    "You have a list `arr` of all integers in the range `[1, n]` sorted in a strictly increasing order. Apply the following algorithm on `arr`:\n",
    "\n",
    "- Starting from left to right, remove the first number and every other number afterward until you reach the end of the list.\n",
    "- Repeat the previous step again, but this time from right to left, remove the rightmost number and every other number from the remaining numbers.\n",
    "- Keep repeating the steps again, alternating left to right and right to left, until a single number remains.\n",
    "\n",
    "Given the integer `n`, return *the last number that remains in* `arr`."
   ]
  },
  {
   "cell_type": "code",
   "execution_count": 9,
   "id": "41f78fbe",
   "metadata": {},
   "outputs": [
    {
     "data": {
      "text/plain": [
       "6"
      ]
     },
     "execution_count": 9,
     "metadata": {},
     "output_type": "execute_result"
    }
   ],
   "source": [
    "def last(n):\n",
    "    if n < 3: return n\n",
    "    if n == 3: return 2\n",
    "    temp = n & 3  \n",
    "    if temp == 0:\n",
    "        return (last(n>>2) << 2) - 2  \n",
    "    elif temp == 2:\n",
    "        return last(n>>2) << 2  \n",
    "    else:\n",
    "        return last(n-1)\n",
    "n = 9\n",
    "last(n)"
   ]
  },
  {
   "cell_type": "markdown",
   "id": "538b8cd7",
   "metadata": {},
   "source": [
    "3)Given a set represented as a string, write a recursive code to print all subsets of it. The subsets can be printed in any order.\n",
    "\n",
    "**Example 1:**\n",
    "\n",
    "Input :  set = “abc”\n",
    "\n",
    "Output : { “”, “a”, “b”, “c”, “ab”, “ac”, “bc”, “abc”}"
   ]
  },
  {
   "cell_type": "code",
   "execution_count": 36,
   "id": "4c5204ed",
   "metadata": {},
   "outputs": [
    {
     "name": "stdout",
     "output_type": "stream",
     "text": [
      "\n",
      "a\n",
      "ab\n",
      "abc\n",
      "ac\n",
      "b\n",
      "bc\n",
      "c\n"
     ]
    }
   ],
   "source": [
    "def powerSet(str1, index, curr):\n",
    "    n = len(str1)\n",
    "    if (index == n):\n",
    "        return\n",
    "\n",
    "    print(curr)\n",
    "\n",
    "    for i in range(index + 1, n):\n",
    "        curr += str1[i]\n",
    "        powerSet(str1, i, curr)\n",
    "\n",
    "        curr = curr.replace(curr[len(curr) - 1], \"\")\n",
    "\n",
    "    return \n",
    "\n",
    "str = \"abc\"\n",
    "powerSet(str, -1, \"\")"
   ]
  },
  {
   "cell_type": "markdown",
   "id": "60ac5d6b",
   "metadata": {},
   "source": [
    "4)Given a string calculate length of the string using recursion."
   ]
  },
  {
   "cell_type": "code",
   "execution_count": 49,
   "id": "24f59d3a",
   "metadata": {},
   "outputs": [
    {
     "data": {
      "text/plain": [
       "4"
      ]
     },
     "execution_count": 49,
     "metadata": {},
     "output_type": "execute_result"
    }
   ],
   "source": [
    "def string_length(str) :\n",
    "    if str == '':\n",
    "        return 0\n",
    "    else :\n",
    "        return 1 + string_length(str[1:])\n",
    "\n",
    "str = \"abcd\"\n",
    "string_length(str)"
   ]
  },
  {
   "cell_type": "markdown",
   "id": "5b4ff2b5",
   "metadata": {},
   "source": [
    "5)We are given a string S, we need to find count of all contiguous substrings starting and ending with same character"
   ]
  },
  {
   "cell_type": "code",
   "execution_count": 51,
   "id": "e6f1d46f",
   "metadata": {},
   "outputs": [
    {
     "data": {
      "text/plain": [
       "7"
      ]
     },
     "execution_count": 51,
     "metadata": {},
     "output_type": "execute_result"
    }
   ],
   "source": [
    "def substring(s):\n",
    "    result = 0;\n",
    "    n = len(s);\n",
    "    for i in range(n):\n",
    "        for j in range(i, n):\n",
    "            if (s[i] == s[j]):\n",
    "                result = result + 1\n",
    "\n",
    "    return result\n",
    "\n",
    "s = \"abcab\";\n",
    "substring(s)"
   ]
  },
  {
   "cell_type": "markdown",
   "id": "5856488d",
   "metadata": {},
   "source": [
    "**Question 6**\n",
    "\n",
    "The [tower of Hanoi](https://en.wikipedia.org/wiki/Tower_of_Hanoi) is a famous puzzle where we have three rods and **N** disks. The objective of the puzzle is to move the entire stack to another rod. You are given the number of discs **N**. Initially, these discs are in the rod 1. You need to print all the steps of discs movement so that all the discs reach the 3rd rod. Also, you need to find the total moves.**Note:** The discs are arranged such that the **top disc is numbered 1** and the **bottom-most disc is numbered N**. Also, all the discs have **different sizes** and a bigger disc **cannot** be put on the top of a smaller disc. Refer the provided link to get a better clarity about the puzzle."
   ]
  },
  {
   "cell_type": "code",
   "execution_count": 61,
   "id": "688b7555",
   "metadata": {},
   "outputs": [
    {
     "name": "stdout",
     "output_type": "stream",
     "text": [
      "Move disk 1 from rod 1 to rod 2\n",
      "Move disk 2 from rod 1 to rod 3\n",
      "Move disk 1 from rod 2 to rod 3\n",
      "Move disk 3 from rod 1 to rod 2\n",
      "Move disk 1 from rod 3 to rod 1\n",
      "Move disk 2 from rod 3 to rod 2\n",
      "Move disk 1 from rod 1 to rod 2\n"
     ]
    }
   ],
   "source": [
    "def numbers(n, from_rod, to_rod, aux_rod):\n",
    "    if n == 0:\n",
    "        return\n",
    "    numbers(n-1, from_rod, aux_rod, to_rod)\n",
    "    print(\"Move disk\", n, \"from rod\", from_rod, \"to rod\", to_rod)\n",
    "    numbers(n-1, aux_rod, to_rod, from_rod)\n",
    "\n",
    "N = 3\n",
    "numbers(N, 1,2,3)"
   ]
  },
  {
   "cell_type": "markdown",
   "id": "8f8485fd",
   "metadata": {},
   "source": [
    "**Question 7**\n",
    "\n",
    "Given a string **str**, the task is to print all the permutations of **str**. A **permutation** is an arrangement of all or part of a set of objects, with regard to the order of the arrangement. For instance, the words ‘bat’ and ‘tab’ represents two distinct permutation (or arrangements) of a similar three letter word.\n",
    "\n",
    "**Examples:**\n",
    "\n",
    "> Input: str = “cd”\n",
    "> **Output:** cd dc \n",
    "> **Input:** str = “abb”\n",
    "> **Output:** abb abb bab bba bab bba"
   ]
  },
  {
   "cell_type": "code",
   "execution_count": 62,
   "id": "76aee8b1",
   "metadata": {},
   "outputs": [
    {
     "name": "stdout",
     "output_type": "stream",
     "text": [
      "cd\n",
      "dc\n"
     ]
    }
   ],
   "source": [
    "def toString(List):\n",
    "    return ''.join(List)\n",
    "\n",
    "def permute(a, l, r):\n",
    "    if l == r:\n",
    "        print(toString(a))\n",
    "    else:\n",
    "        for i in range(l, r):\n",
    "            a[l], a[i] = a[i], a[l]\n",
    "            permute(a, l+1, r)\n",
    "            a[l], a[i] = a[i], a[l] \n",
    "\n",
    "\n",
    "\n",
    "string = \"cd\"\n",
    "n = len(string)\n",
    "a = list(string)\n",
    "permute(a, 0, n)"
   ]
  },
  {
   "cell_type": "markdown",
   "id": "73dad2f1",
   "metadata": {},
   "source": [
    "**Question 8**\n",
    "\n",
    "Given a string, count total number of consonants in it. A consonant is an English alphabet character that is not vowel (a, e, i, o and u). Examples of constants are b, c, d, f, and g.\n",
    "\n",
    "**Examples :**\n",
    "Input : abc de\n",
    "Output : 3\n",
    "There are three consonants b, c and d.\n",
    "\n",
    "Input : geeksforgeeks portal\n",
    "Output : 12"
   ]
  },
  {
   "cell_type": "code",
   "execution_count": 67,
   "id": "d2168727",
   "metadata": {},
   "outputs": [
    {
     "data": {
      "text/plain": [
       "3"
      ]
     },
     "execution_count": 67,
     "metadata": {},
     "output_type": "execute_result"
    }
   ],
   "source": [
    "def consonant(ch):\n",
    "    ch = ch.upper()\n",
    "\n",
    "    return not (ch == 'A' or ch == 'E' or\n",
    "                ch == 'I' or ch == 'O' or\n",
    "                ch == 'U') and ord(ch) >= 65 and ord(ch) <= 90\n",
    "\n",
    "def consonant(string):\n",
    "    count = 0\n",
    "    for i in range(len(string)):\n",
    "        if (isConsonant(string[i])):\n",
    "            count += 1\n",
    "    return count\n",
    "\n",
    "string = \"abc de\"\n",
    "consonant(string)"
   ]
  },
  {
   "cell_type": "code",
   "execution_count": null,
   "id": "68fe34e8",
   "metadata": {},
   "outputs": [],
   "source": []
  }
 ],
 "metadata": {
  "kernelspec": {
   "display_name": "Python 3 (ipykernel)",
   "language": "python",
   "name": "python3"
  },
  "language_info": {
   "codemirror_mode": {
    "name": "ipython",
    "version": 3
   },
   "file_extension": ".py",
   "mimetype": "text/x-python",
   "name": "python",
   "nbconvert_exporter": "python",
   "pygments_lexer": "ipython3",
   "version": "3.9.7"
  }
 },
 "nbformat": 4,
 "nbformat_minor": 5
}
