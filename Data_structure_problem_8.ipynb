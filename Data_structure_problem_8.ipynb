{
 "cells": [
  {
   "cell_type": "markdown",
   "id": "74b03652",
   "metadata": {},
   "source": [
    "**Question 1**\n",
    "\n",
    "Given two strings s1 and s2, return *the lowest **ASCII** sum of deleted characters to make two strings equal*.\n",
    "\n",
    "**Example 1:**\n",
    "\n",
    "**Input:** s1 = \"sea\", s2 = \"eat\"\n",
    "\n",
    "**Output:** 231\n",
    "\n",
    "**Explanation:** Deleting \"s\" from \"sea\" adds the ASCII value of \"s\" (115) to the sum.\n",
    "\n",
    "Deleting \"t\" from \"eat\" adds 116 to the sum.\n",
    "\n",
    "At the end, both strings are equal, and 115 + 116 = 231 is the minimum sum possible to achieve this."
   ]
  },
  {
   "cell_type": "code",
   "execution_count": 62,
   "id": "08e72bed",
   "metadata": {},
   "outputs": [
    {
     "data": {
      "text/plain": [
       "231"
      ]
     },
     "execution_count": 62,
     "metadata": {},
     "output_type": "execute_result"
    }
   ],
   "source": [
    "class Solution(object):\n",
    "    def minimumDeleteSum(self, s1, s2):\n",
    "        dp = [[0] * (len(s2)+1) for _ in range(len(s1)+1)]\n",
    "        for i in range(len(s1)):\n",
    "            dp[i+1][0] = dp[i][0] + ord(s1[i])\n",
    "        for j in range(len(s2)):\n",
    "            dp[0][j+1] = dp[0][j] + ord(s2[j])\n",
    "\n",
    "        for i in range(len(s1)):\n",
    "            for j in range(len(s2)):\n",
    "                if s1[i] == s2[j]:\n",
    "                    dp[i+1][j+1] = dp[i][j]\n",
    "                else:\n",
    "                    dp[i+1][j+1] = min(dp[i][j+1] + ord(s1[i]),\n",
    "                                       dp[i+1][j] + ord(s2[j]))\n",
    "\n",
    "        return dp[-1][-1]\n",
    "\n",
    "s1 = \"sea\"\n",
    "s2 = \"eat\"\n",
    "k=Solution()\n",
    "k.minimumDeleteSum(s1,s2)"
   ]
  },
  {
   "cell_type": "markdown",
   "id": "cfbf2f06",
   "metadata": {},
   "source": [
    "**Question 2**\n",
    "\n",
    "Given a string s containing only three types of characters: '(', ')' and '*', return true *if* s *is **valid***.\n",
    "\n",
    "The following rules define a **valid** string:\n",
    "\n",
    "- Any left parenthesis '(' must have a corresponding right parenthesis ')'.\n",
    "- Any right parenthesis ')' must have a corresponding left parenthesis '('.\n",
    "- Left parenthesis '(' must go before the corresponding right parenthesis ')'.\n",
    "- '*' could be treated as a single right parenthesis ')' or a single left parenthesis '(' or an empty string \"\".\n",
    "\n",
    "**Example 1:**\n",
    "\n",
    "**Input:** s = \"()\"\n",
    "\n",
    "**Output:**\n",
    "\n",
    "true\n",
    "\n",
    "</aside>"
   ]
  },
  {
   "cell_type": "code",
   "execution_count": 65,
   "id": "08ffb4fb",
   "metadata": {},
   "outputs": [
    {
     "data": {
      "text/plain": [
       "True"
      ]
     },
     "execution_count": 65,
     "metadata": {},
     "output_type": "execute_result"
    }
   ],
   "source": [
    "def areBracketsBalanced(expr):\n",
    "    stack = []\n",
    "    for char in expr:\n",
    "        if char in [\"(\", \"{\", \"[\"]:\n",
    "            stack.append(char)\n",
    "        else:\n",
    "            if not stack:\n",
    "                return False\n",
    "            current_char = stack.pop()\n",
    "            if current_char == '(':\n",
    "                if char != \")\":\n",
    "                    return False\n",
    "            if current_char == '{':\n",
    "                if char != \"}\":\n",
    "                    return False\n",
    "            if current_char == '[':\n",
    "                if char != \"]\":\n",
    "                    return False\n",
    "    if stack:\n",
    "        return False\n",
    "    return True\n",
    "\n",
    "s = \"()\"\n",
    "areBracketsBalanced(s)"
   ]
  },
  {
   "cell_type": "markdown",
   "id": "4313b861",
   "metadata": {},
   "source": [
    "**Question 3**\n",
    "\n",
    "Given two strings word1 and word2, return *the minimum number of **steps** required to make* word1 *and* word2 *the same*.\n",
    "\n",
    "In one **step**, you can delete exactly one character in either string.\n",
    "\n",
    "**Example 1:**\n",
    "\n",
    "**Input:** word1 = \"sea\", word2 = \"eat\"\n",
    "\n",
    "**Output:** 2\n",
    "\n",
    "**Explanation:** You need one step to make \"sea\" to \"ea\" and another step to make \"eat\" to \"ea\".\n",
    "\n",
    "</aside>"
   ]
  },
  {
   "cell_type": "code",
   "execution_count": 69,
   "id": "d027af40",
   "metadata": {},
   "outputs": [
    {
     "data": {
      "text/plain": [
       "2"
      ]
     },
     "execution_count": 69,
     "metadata": {},
     "output_type": "execute_result"
    }
   ],
   "source": [
    "class Solution:\n",
    "    def minDistance(self, word1,word2):\n",
    "        m, n = len(word1), len(word2)\n",
    "        if m < n: word1, word2, m, n = word2, word1, n, m\n",
    "        dpLast, dpCurr = [0] * (n + 1), [0] * (n + 1)\n",
    "        for c1 in word1:\n",
    "            for j in range(n):\n",
    "                dpCurr[j+1] = dpLast[j] + 1 if c1 == W2[j] else max(dpCurr[j], dpLast[j+1])\n",
    "            dpLast, dpCurr = dpCurr, dpLast\n",
    "        return m + n - 2 * dpLast[n]\n",
    "word1=\"sea\"\n",
    "word2=\"eat\"\n",
    "s=Solution()\n",
    "s.minDistance(W1,W2)"
   ]
  },
  {
   "cell_type": "markdown",
   "id": "746d0c88",
   "metadata": {},
   "source": [
    "You need to construct a binary tree from a string consisting of parenthesis and integers.\n",
    "\n",
    "The whole input represents a binary tree. It contains an integer followed by zero, one or two pairs of parenthesis. The integer represents the root's value and a pair of parenthesis contains a child binary tree with the same structure.\n",
    "You always start to construct the **left** child node of the parent first if it exists.\n",
    "**Input:** s = \"4(2(3)(1))(6(5))\"\n",
    "\n",
    "**Output:** [4,2,6,3,1,5]"
   ]
  },
  {
   "cell_type": "code",
   "execution_count": 71,
   "id": "a80e8800",
   "metadata": {},
   "outputs": [
    {
     "name": "stdout",
     "output_type": "stream",
     "text": [
      "4 2 3 1 6 5 "
     ]
    }
   ],
   "source": [
    "class newNode:\n",
    "    def __init__(self, data):\n",
    "        self.data = data\n",
    "        self.left = self.right = None\n",
    "def preOrder(node):\n",
    "    if (node == None):\n",
    "        return\n",
    "    print(node.data, end=' ')\n",
    "    preOrder(node.left)\n",
    "    preOrder(node.right)\n",
    "\n",
    "def findIndex(Str, si, ei):\n",
    "    if (si > ei):\n",
    "        return -1\n",
    "\n",
    "    s = []\n",
    "    for i in range(si, ei + 1):\n",
    "\n",
    "        if (Str[i] == '('):\n",
    "            s.append(Str[i])\n",
    "        elif (Str[i] == ')'):\n",
    "            if (s[-1] == '('):\n",
    "                s.pop(-1)\n",
    "\n",
    "                if len(s) == 0:\n",
    "                    return i\n",
    "    return -1\n",
    "\n",
    "def treeFromString(Str, si, ei):\n",
    "    if (si > ei):\n",
    "        return None\n",
    "    root = newNode(ord(Str[si]) - ord('0'))\n",
    "    index = -1\n",
    "\n",
    "\n",
    "    if (si + 1 <= ei and Str[si + 1] == '('):\n",
    "        index = findIndex(Str, si + 1, ei)\n",
    "\n",
    "    if (index != -1):\n",
    "\n",
    "\n",
    "        root.left = treeFromString(Str, si + 2,\n",
    "                                        index - 1)\n",
    "\n",
    "        root.right = treeFromString(Str, index + 2,\n",
    "                                        ei - 1)\n",
    "    return root\n",
    "\n",
    "Str = \"4(2(3)(1))(6(5))\"\n",
    "root = treeFromString(Str, 0, len(Str) - 1)\n",
    "preOrder(root)"
   ]
  },
  {
   "cell_type": "markdown",
   "id": "6567a404",
   "metadata": {},
   "source": [
    "**Question 5**\n",
    "\n",
    "Given an array of characters chars, compress it using the following algorithm:\n",
    "\n",
    "Begin with an empty string s. For each group of **consecutive repeating characters** in chars:\n",
    "\n",
    "- If the group's length is 1, append the character to s.\n",
    "- Otherwise, append the character followed by the group's length.\n",
    "\n",
    "The compressed string s **should not be returned separately**, but instead, be stored **in the input character array chars**. Note that group lengths that are 10 or longer will be split into multiple characters in chars.\n",
    "\n",
    "After you are done **modifying the input array,** return *the new length of the array*.\n",
    "\n",
    "You must write an algorithm that uses only constant extra space.\n",
    "\n",
    "**Example 1:**\n",
    "\n",
    "**Input:** chars = [\"a\",\"a\",\"b\",\"b\",\"c\",\"c\",\"c\"]\n",
    "\n",
    "**Output:** Return 6, and the first 6 characters of the input array should be: [\"a\",\"2\",\"b\",\"2\",\"c\",\"3\"]\n",
    "\n",
    "**Explanation:**\n",
    "\n",
    "The groups are \"aa\", \"bb\", and \"ccc\". This compresses to \"a2b2c3\"."
   ]
  },
  {
   "cell_type": "code",
   "execution_count": 73,
   "id": "de79687e",
   "metadata": {},
   "outputs": [
    {
     "data": {
      "text/plain": [
       "6"
      ]
     },
     "execution_count": 73,
     "metadata": {},
     "output_type": "execute_result"
    }
   ],
   "source": [
    "class solution:\n",
    "    def compress(self, chars):\n",
    "        result, count = 0, 1\n",
    "        j = 0\n",
    "        for i in range(1, len(chars)+1): \n",
    "            if i < len(chars) and chars[i] == chars[i-1]:\n",
    "                count += 1\n",
    "            else:\n",
    "                chars[j] = chars[i-1]\n",
    "                j += 1\n",
    "                if count == 1:\n",
    "                    continue\n",
    "                for ch in str(count):\n",
    "                    chars[j] = ch\n",
    "                    j += 1\n",
    "                count = 1\n",
    "        return j\n",
    "chars = [\"a\",\"a\",\"b\",\"b\",\"c\",\"c\",\"c\"]\n",
    "s=solution()\n",
    "s.compress(chars)"
   ]
  },
  {
   "cell_type": "markdown",
   "id": "9972ea69",
   "metadata": {},
   "source": [
    "**Question 6**\n",
    "\n",
    "Given two strings s and p, return *an array of all the start indices of* p*'s anagrams in* s. You may return the answer in **any order**.\n",
    "\n",
    "An **Anagram** is a word or phrase formed by rearranging the letters of a different word or phrase, typically using all the original letters exactly once.\n",
    "\n",
    "**Example 1:**\n",
    "\n",
    "**Input:** s = \"cbaebabacd\", p = \"abc\"\n",
    "\n",
    "**Output:** [0,6]\n",
    "\n",
    "**Explanation:**\n",
    "\n",
    "The substring with start index = 0 is \"cba\", which is an anagram of \"abc\".\n",
    "\n",
    "The substring with start index = 6 is \"bac\", which is an anagram of \"abc\"."
   ]
  },
  {
   "cell_type": "code",
   "execution_count": 77,
   "id": "44c3588a",
   "metadata": {},
   "outputs": [
    {
     "data": {
      "text/plain": [
       "[0, 6]"
      ]
     },
     "execution_count": 77,
     "metadata": {},
     "output_type": "execute_result"
    }
   ],
   "source": [
    "from collections import Counter\n",
    "class star:\n",
    "    def findAnagrams(self, s, p):\n",
    "        start = 0\n",
    "        stop = len(p)-1\n",
    "        found = []\n",
    "        count_s = Counter(s[start:stop])\n",
    "        count_p = Counter(p) \n",
    "        for i in range(stop,len(s)):\n",
    "            first_letter = s[i-stop]\n",
    "            last_letter = s[i]\n",
    "            count_s[last_letter]+=1\n",
    "            if count_s == count_p:\n",
    "                found.append(i-stop)\n",
    "            if count_s[first_letter] == 1:\n",
    "                del count_s[first_letter]\n",
    "            else:\n",
    "                count_s[first_letter] -= 1\n",
    "        return found\n",
    "s = \"cbaebabacd\"\n",
    "p = \"abc\"\n",
    "c=star()\n",
    "c.findAnagrams(s,p)"
   ]
  },
  {
   "cell_type": "code",
   "execution_count": 78,
   "id": "5e67af37",
   "metadata": {},
   "outputs": [],
   "source": [
    "**Question 7**\n",
    "\n",
    "Given an encoded string, return its decoded string.\n",
    "\n",
    "The encoding rule is: k[encoded_string], where the encoded_string inside the square brackets is being repeated exactly k times. Note that k is guaranteed to be a positive integer.\n",
    "\n",
    "You may assume that the input string is always valid; there are no extra white spaces, square brackets are well-formed, etc. Furthermore, you may assume that the original data does not contain any digits and that digits are only for those repeat numbers, k. For example, there will not be input like 3a or 2[4].\n",
    "\n",
    "The test cases are generated so that the length of the output will never exceed 105.\n",
    "\n",
    "**Example 1:**\n",
    "\n",
    "**Input:** s = \"3[a]2[bc]\"\n",
    "\n",
    "**Output:** \"aaabcbc\""
   ]
  },
  {
   "cell_type": "code",
   "execution_count": 90,
   "id": "a4d9741c",
   "metadata": {},
   "outputs": [
    {
     "data": {
      "text/plain": [
       "'aaabcbc'"
      ]
     },
     "execution_count": 90,
     "metadata": {},
     "output_type": "execute_result"
    }
   ],
   "source": [
    "class star:\n",
    "    def decodeString(self, s):\n",
    "        #Initialize data structure\n",
    "        stack, res, num = [], '', 0\n",
    "        for c in s:\n",
    "            if c.isdigit():\n",
    "                num = num * 10 + int(c)\n",
    "            elif c.isalpha():\n",
    "                res += c\n",
    "            elif c == '[':\n",
    "                #Tuple form stacking\n",
    "                stack.append((res, num))\n",
    "                #Refresh strings and number of repetitions\n",
    "                res, num = '', 0\n",
    "            else:\n",
    "                #If c==']', pop-up strings and number of repetitions\n",
    "                last_str, this_num = stack.pop()\n",
    "                res = last_str + this_num * res\n",
    "        return res\n",
    "s = \"3[a]2[bc]\"\n",
    "c=star()\n",
    "c.decodeString(s)"
   ]
  },
  {
   "cell_type": "code",
   "execution_count": 79,
   "id": "4f08059e",
   "metadata": {},
   "outputs": [],
   "source": [
    "**Question 8**\n",
    "\n",
    "Given two strings s and goal, return true *if you can swap two letters in* s *so the result is equal to* goal*, otherwise, return* false*.*\n",
    "\n",
    "Swapping letters is defined as taking two indices i and j (0-indexed) such that i != j and swapping the characters at s[i] and s[j].\n",
    "\n",
    "- For example, swapping at indices 0 and 2 in \"abcd\" results in \"cbad\".\n",
    "\n",
    "**Example 1:**\n",
    "\n",
    "**Input:** s = \"ab\", goal = \"ba\"\n",
    "\n",
    "**Output:** true\n",
    "\n",
    "**Explanation:** You can swap s[0] = 'a' and s[1] = 'b' to get \"ba\", which is equal to goal."
   ]
  },
  {
   "cell_type": "code",
   "execution_count": 84,
   "id": "1b75a4e1",
   "metadata": {},
   "outputs": [
    {
     "data": {
      "text/plain": [
       "True"
      ]
     },
     "execution_count": 84,
     "metadata": {},
     "output_type": "execute_result"
    }
   ],
   "source": [
    "class Solution:\n",
    "    def buddyStrings(self, s,goal):\n",
    "        diff = [(i,j) for i,j in zip(s,goal) if i!=j]\n",
    "        freq = Counter(s)\n",
    "        if len(s) != len(goal):\n",
    "            return False\n",
    "        if len(diff) == 2 and diff[0][0] == diff[1][1] and diff[0][1]==diff[1][0]:\n",
    "            return True\n",
    "        elif len(diff) == 0 and any(map(lambda x: x>1, freq.values())):\n",
    "            return True\n",
    "        else:\n",
    "            return False\n",
    "s = \"ab\"\n",
    "goal = \"ba\"\n",
    "k=Solution()\n",
    "k.buddyStrings(a,b)"
   ]
  },
  {
   "cell_type": "code",
   "execution_count": null,
   "id": "c77669e8",
   "metadata": {},
   "outputs": [],
   "source": []
  },
  {
   "cell_type": "code",
   "execution_count": 86,
   "id": "755a03d8",
   "metadata": {},
   "outputs": [
    {
     "data": {
      "text/plain": [
       "('', 9)"
      ]
     },
     "execution_count": 86,
     "metadata": {},
     "output_type": "execute_result"
    }
   ],
   "source": [
    "\n",
    "s = \"3[a]2[bc]\"\n",
    "start=len(s)\n",
    "c=Solution()\n",
    "c.decode_util(s,start)"
   ]
  },
  {
   "cell_type": "code",
   "execution_count": null,
   "id": "a206b45f",
   "metadata": {},
   "outputs": [],
   "source": []
  }
 ],
 "metadata": {
  "kernelspec": {
   "display_name": "Python 3 (ipykernel)",
   "language": "python",
   "name": "python3"
  },
  "language_info": {
   "codemirror_mode": {
    "name": "ipython",
    "version": 3
   },
   "file_extension": ".py",
   "mimetype": "text/x-python",
   "name": "python",
   "nbconvert_exporter": "python",
   "pygments_lexer": "ipython3",
   "version": "3.9.7"
  }
 },
 "nbformat": 4,
 "nbformat_minor": 5
}
