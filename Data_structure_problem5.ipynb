{
 "cells": [
  {
   "cell_type": "markdown",
   "id": "2c0716af",
   "metadata": {},
   "source": [
    "**Question 1**\n",
    "\n",
    "Convert 1D Array Into 2D Array\n",
    "\n",
    "You are given a **0-indexed** 1-dimensional (1D) integer array original, and two integers, m and n. You are tasked with creating a 2-dimensional (2D) array with  m rows and n columns using **all** the elements from original.\n",
    "\n",
    "The elements from indices 0 to n - 1 (**inclusive**) of original should form the first row of the constructed 2D array, the elements from indices n to 2 * n - 1 (**inclusive**) should form the second row of the constructed 2D array, and so on.\n",
    "\n",
    "Return *an* m x n *2D array constructed according to the above procedure, or an empty 2D array if it is impossible*.\n",
    "\n",
    "**Example 1:**\n",
    "\n",
    "![Screenshot 2023-05-29 004311.png](https://s3-us-west-2.amazonaws.com/secure.notion-static.com/de7ec927-9e60-4545-9475-f3ee31116192/Screenshot_2023-05-29_004311.png)\n",
    "\n",
    "[d\n",
    "\n",
    "**Input:** original = [1,2,3,4], m = 2, n = 2\n",
    "\n",
    "**Output:** [[1,2],[3,4]]\n",
    "\n",
    "**Explanation:** The constructed 2D array should contain 2 rows and 2 columns.\n",
    "\n",
    "The first group of n=2 elements in original, [1,2], becomes the first row in the constructed 2D array.\n",
    "\n",
    "The second group of n=2 elements in original, [3,4], becomes the second row in the constructed 2D array."
   ]
  },
  {
   "cell_type": "code",
   "execution_count": 183,
   "id": "873736f3",
   "metadata": {},
   "outputs": [
    {
     "data": {
      "text/plain": [
       "[[1, 2], [3, 4]]"
      ]
     },
     "execution_count": 183,
     "metadata": {},
     "output_type": "execute_result"
    }
   ],
   "source": [
    "class solution:\n",
    "    def dim(self,nums,m,n):\n",
    "        if len(nums)==m*n:\n",
    "            ans=[]\n",
    "            for i in range(0,m*n,n):\n",
    "                ans.append(nums[i:i+n])\n",
    "            return ans\n",
    "        else:\n",
    "            return -1\n",
    "            \n",
    "nums=[1,2,3,4]\n",
    "m=2\n",
    "n=2\n",
    "c=solution()\n",
    "c.dim(nums,m,n)"
   ]
  },
  {
   "cell_type": "markdown",
   "id": "4d41fefb",
   "metadata": {},
   "source": [
    "💡 **Question 2**\n",
    "\n",
    "You have n coins and you want to build a staircase with these coins. The staircase consists of k rows where the ith row has exactly i coins. The last row of the staircase **may be** incomplete.\n",
    "\n",
    "Given the integer n, return *the number of **complete rows** of the staircase you will build*.\n",
    "\n",
    "**Example 1:**\n",
    "\n",
    "![Screenshot 2023-05-29 004404.png](https://s3-us-west-2.amazonaws.com/secure.notion-static.com/0649438a-417e-4a97-ad4a-5d576ecbfee6/Screenshot_2023-05-29_004404.png)\n",
    "\n",
    "**Input:** n = 5\n",
    "\n",
    "**Output:** 2\n",
    "\n",
    "**Explanation:** Because the 3rd row is incomplete, we return 2."
   ]
  },
  {
   "cell_type": "code",
   "execution_count": 184,
   "id": "4d3f8718",
   "metadata": {},
   "outputs": [
    {
     "data": {
      "text/plain": [
       "2"
      ]
     },
     "execution_count": 184,
     "metadata": {},
     "output_type": "execute_result"
    }
   ],
   "source": [
    "class solution:\n",
    "    def coins(self, n):\n",
    "        if n==1:\n",
    "            return 1\n",
    "        l=0\n",
    "        r=n//2 + 1\n",
    "        while l<=r:\n",
    "            m = l+(r-l)//2\n",
    "            x = (m*(m+1)//2)\n",
    "            if x==n:\n",
    "                return(m)\n",
    "            elif x<n:\n",
    "                l = m+1\n",
    "            else:\n",
    "                r=m-1\n",
    "        return(l-1)\n",
    "n=5\n",
    "s=solution()\n",
    "s.coins(n)"
   ]
  },
  {
   "cell_type": "markdown",
   "id": "ba2f63ce",
   "metadata": {},
   "source": [
    "**Question 3**\n",
    "\n",
    "Given an integer array nums sorted in **non-decreasing** order, return *an array of **the squares of each number** sorted in non-decreasing order*.\n",
    "\n",
    "**Example 1:**\n",
    "\n",
    "**Input:** nums = [-4,-1,0,3,10]\n",
    "\n",
    "**Output:** [0,1,9,16,100]\n",
    "\n",
    "**Explanation:** After squaring, the array becomes [16,1,0,9,100].\n",
    "\n",
    "After sorting, it becomes [0,1,9,16,100]."
   ]
  },
  {
   "cell_type": "code",
   "execution_count": 185,
   "id": "59338e04",
   "metadata": {},
   "outputs": [
    {
     "data": {
      "text/plain": [
       "[0, 1, 9, 16, 100]"
      ]
     },
     "execution_count": 185,
     "metadata": {},
     "output_type": "execute_result"
    }
   ],
   "source": [
    "class solution:\n",
    "    def arr1(self,nums):\n",
    "        s=[]\n",
    "        for i in range(len(nums)):\n",
    "            s.append(nums[i]**2)\n",
    "            s.sort()\n",
    "        return s\n",
    "nums = [-4,-1,0,3,10]\n",
    "p=solution()\n",
    "p.arr1(nums)"
   ]
  },
  {
   "cell_type": "markdown",
   "id": "99665548",
   "metadata": {},
   "source": [
    "**Question 4**\n",
    "\n",
    "Given two **0-indexed** integer arrays nums1 and nums2, return *a list* answer *of size* 2 *where:*\n",
    "\n",
    "- answer[0] *is a list of all **distinct** integers in* nums1 *which are **not** present in* nums2*.*\n",
    "- answer[1] *is a list of all **distinct** integers in* nums2 *which are **not** present in* nums1.\n",
    "\n",
    "**Note** that the integers in the lists may be returned in **any** order.\n",
    "\n",
    "**Example 1:**\n",
    "\n",
    "**Input:** nums1 = [1,2,3], nums2 = [2,4,6]\n",
    "\n",
    "**Output:** [[1,3],[4,6]]\n",
    "\n",
    "**Explanation:**\n",
    "\n",
    "For nums1, nums1[1] = 2 is present at index 0 of nums2, whereas nums1[0] = 1 and nums1[2] = 3 are not present in nums2. Therefore, answer[0] = [1,3].\n",
    "\n",
    "For nums2, nums2[0] = 2 is present at index 1 of nums1, whereas nums2[1] = 4 and nums2[2] = 6 are not present in nums2. Therefore, answer[1] = [4,6]."
   ]
  },
  {
   "cell_type": "code",
   "execution_count": null,
   "id": "0bdc40c0",
   "metadata": {},
   "outputs": [],
   "source": [
    "class solution:\n",
    "    def check(self, nums1, nums2):\n",
    "        l=[]\n",
    "        l1=[]\n",
    "        for i in nums1:\n",
    "            if i not in nums2:\n",
    "                l.append(i)\n",
    "                    \n",
    "        for k in nums2:\n",
    "            if k not in nums1:\n",
    "                l1.append(k)\n",
    "        l=list(set(l))\n",
    "        l1=list(set(l1))\n",
    "        return [l,l1]     \n",
    "    \n",
    "nums1 = [1,2,3]\n",
    "nums2 = [2,4,6]\n",
    "s=solution()\n",
    "s.check(nums1,nums2)"
   ]
  },
  {
   "cell_type": "markdown",
   "id": "28f46787",
   "metadata": {},
   "source": [
    "**Question 5**\n",
    "\n",
    "Given two integer arrays arr1 and arr2, and the integer d, *return the distance value between the two arrays*.\n",
    "\n",
    "The distance value is defined as the number of elements arr1[i] such that there is not any element arr2[j] where |arr1[i]-arr2[j]| <= d.\n",
    "\n",
    "**Example 1:**\n",
    "\n",
    "**Input:** arr1 = [4,5,8], arr2 = [10,9,1,8], d = 2\n",
    "\n",
    "**Output:** 2\n",
    "\n",
    "**Explanation:**\n",
    "\n",
    "For arr1[0]=4 we have:\n",
    "\n",
    "|4-10|=6 > d=2\n",
    "\n",
    "|4-9|=5 > d=2\n",
    "\n",
    "|4-1|=3 > d=2\n",
    "\n",
    "|4-8|=4 > d=2\n",
    "\n",
    "For arr1[1]=5 we have:\n",
    "\n",
    "|5-10|=5 > d=2\n",
    "\n",
    "|5-9|=4 > d=2\n",
    "\n",
    "|5-1|=4 > d=2\n",
    "\n",
    "|5-8|=3 > d=2\n",
    "\n",
    "For arr1[2]=8 we have:\n",
    "\n",
    "**|8-10|=2 <= d=2**\n",
    "\n",
    "**|8-9|=1 <= d=2**\n",
    "\n",
    "|8-1|=7 > d=2\n",
    "\n",
    "**|8-8|=0 <= d=2**"
   ]
  },
  {
   "cell_type": "code",
   "execution_count": 213,
   "id": "ff5fbf82",
   "metadata": {},
   "outputs": [
    {
     "name": "stdout",
     "output_type": "stream",
     "text": [
      "For arr1[0]=4\n",
      "|4-10|=6>d=2\n",
      "|4-9|=5>d=2\n",
      "|4-1|=3>d=2\n",
      "|4-8|=4>d=2\n",
      "For arr1[1]=5\n",
      "|5-10|=5>d=2\n",
      "|5-9|=4>d=2\n",
      "|5-1|=4>d=2\n",
      "|5-8|=3>d=2\n",
      "For arr1[2]=8\n",
      "|8-10|=2<=d=2\n",
      "|8-9|=1<=d=2\n",
      "|8-1|=7>d=2\n",
      "|8-8|=0<=d=2\n"
     ]
    },
    {
     "data": {
      "text/plain": [
       "2"
      ]
     },
     "execution_count": 213,
     "metadata": {},
     "output_type": "execute_result"
    }
   ],
   "source": [
    "class solution:\n",
    "    def king(self,arr1,arr2,d):\n",
    "        for i in range(len(arr1)):\n",
    "            print(f\"For arr1{[i]}={arr1[i]}\")\n",
    "            for j in range(len(arr2)):\n",
    "                if abs(arr1[i]-arr2[j])>d:\n",
    "                    k='>'\n",
    "                else:\n",
    "                    k=\"<=\"\n",
    "                print(f\"|{arr1[i]}-{arr2[j]}|={abs(arr1[i]-arr2[j])}{k}d={d}\")\n",
    "        return d\n",
    "arr1 = [4,5,8]\n",
    "arr2 = [10,9,1,8]\n",
    "d = 2\n",
    "s=solution()\n",
    "s.king(arr1,arr2,d)"
   ]
  },
  {
   "cell_type": "markdown",
   "id": "9e3dd8c2",
   "metadata": {},
   "source": [
    "**Question 6**\n",
    "\n",
    "Given an integer array nums of length n where all the integers of nums are in the range [1, n] and each integer appears **once** or **twice**, return *an array of all the integers that appears **twice***.\n",
    "\n",
    "You must write an algorithm that runs in O(n) time and uses only constant extra space.\n",
    "\n",
    "**Example 1:**\n",
    "\n",
    "**Input:** nums = [4,3,2,7,8,2,3,1]\n",
    "\n",
    "**Output:**\n",
    "\n",
    "[2,3]"
   ]
  },
  {
   "cell_type": "code",
   "execution_count": 344,
   "id": "38db0098",
   "metadata": {},
   "outputs": [
    {
     "data": {
      "text/plain": [
       "[2, 3]"
      ]
     },
     "execution_count": 344,
     "metadata": {},
     "output_type": "execute_result"
    }
   ],
   "source": [
    "class solution:\n",
    "    def ask(self,nums):\n",
    "        f={}\n",
    "        s=[]\n",
    "        for i in nums:\n",
    "            if i in f:\n",
    "                f[i]+=1\n",
    "            else:\n",
    "                f[i]=1\n",
    "        for k,v in f.items():\n",
    "            if v>1:\n",
    "                s.append(k)\n",
    "                s.sort()\n",
    "        return s\n",
    "nums = [4,3,2,7,8,2,3,1]\n",
    "s=solution()\n",
    "s.ask(nums)"
   ]
  },
  {
   "cell_type": "markdown",
   "id": "5455b958",
   "metadata": {},
   "source": [
    "**Question 7**\n",
    "\n",
    "Suppose an array of length n sorted in ascending order is **rotated** between 1 and n times. For example, the array nums = [0,1,2,4,5,6,7] might become:\n",
    "\n",
    "- [4,5,6,7,0,1,2] if it was rotated 4 times.\n",
    "- [0,1,2,4,5,6,7] if it was rotated 7 times.\n",
    "\n",
    "Notice that **rotating** an array [a[0], a[1], a[2], ..., a[n-1]] 1 time results in the array [a[n-1], a[0], a[1], a[2], ..., a[n-2]].\n",
    "\n",
    "Given the sorted rotated array nums of **unique** elements, return *the minimum element of this array*.\n",
    "\n",
    "You must write an algorithm that runs in O(log n) time.\n",
    "\n",
    "**Example 1:**\n",
    "\n",
    "**Input:** nums = [3,4,5,1,2]\n",
    "\n",
    "**Output:** 1\n",
    "\n",
    "**Explanation:**\n",
    "\n",
    "The original array was [1,2,3,4,5] rotated 3 times."
   ]
  },
  {
   "cell_type": "code",
   "execution_count": 351,
   "id": "6cfc53fb",
   "metadata": {},
   "outputs": [
    {
     "data": {
      "text/plain": [
       "1"
      ]
     },
     "execution_count": 351,
     "metadata": {},
     "output_type": "execute_result"
    }
   ],
   "source": [
    "class Solution:\n",
    "    def findMin(self, nums):\n",
    "        if nums[0] < nums[-1]:\n",
    "            return nums[0]\n",
    "        elif len(nums) < 5:\n",
    "            return min(nums)\n",
    "        else:\n",
    "            mid = (len(nums) - 1) // 2\n",
    "            return min(self.findMin(nums[:mid]), self.findMin(nums[mid:]))\n",
    "nums =[3,4,5,1,2]\n",
    "s=Solution()\n",
    "s.findMin(nums)"
   ]
  },
  {
   "cell_type": "markdown",
   "id": "f381d285",
   "metadata": {},
   "source": [
    " **Question 8**\n",
    "\n",
    "An integer array original is transformed into a **doubled** array changed by appending **twice the value** of every element in original, and then randomly **shuffling** the resulting array.\n",
    "\n",
    "Given an array changed, return original *if* changed *is a **doubled** array. If* changed *is not a **doubled** array, return an empty array. The elements in* original *may be returned in **any** order*.\n",
    "\n",
    "**Example 1:**\n",
    "\n",
    "**Input:** changed = [1,3,4,2,6,8]\n",
    "\n",
    "**Output:** [1,3,4]\n",
    "\n",
    "**Explanation:** One possible original array could be [1,3,4]:\n",
    "\n",
    "- Twice the value of 1 is 1 * 2 = 2.\n",
    "- Twice the value of 3 is 3 * 2 = 6.\n",
    "- Twice the value of 4 is 4 * 2 = 8.\n",
    "\n",
    "Other original arrays could be [4,3,1] or [3,1,4].\n"
   ]
  },
  {
   "cell_type": "code",
   "execution_count": null,
   "id": "a7a09d39",
   "metadata": {},
   "outputs": [],
   "source": [
    "def findOriginal(changed):\n",
    "    numFreq = {}\n",
    "    for i in range(0, len(changed)):\n",
    "        if (changed[i] in numFreq):\n",
    "            numFreq[changed[i]] += 1\n",
    "        else:\n",
    "            numFreq[changed[i]] = 1\n",
    "\n",
    "    changed.sort()\n",
    "\n",
    "    res = []\n",
    "\n",
    "    for i in range(0, len(changed)):\n",
    "        freq = numFreq[changed[i]]\n",
    "        if (freq > 0):\n",
    "            res.append(changed[i])\n",
    "            numFreq[changed[i]] -= 1\n",
    "            twice = 2 * changed[i]\n",
    "            numFreq[twice] -= 1\n",
    "\n",
    "    return res\n",
    "\n",
    "changed = [1,3,4,2,6,8]\n",
    "res = findOriginal(changed)\n",
    "\n",
    "for i in range(0, len(res)):\n",
    "    print(res[i], end=\" \")"
   ]
  },
  {
   "cell_type": "code",
   "execution_count": null,
   "id": "5e796412",
   "metadata": {},
   "outputs": [],
   "source": []
  }
 ],
 "metadata": {
  "kernelspec": {
   "display_name": "Python 3 (ipykernel)",
   "language": "python",
   "name": "python3"
  },
  "language_info": {
   "codemirror_mode": {
    "name": "ipython",
    "version": 3
   },
   "file_extension": ".py",
   "mimetype": "text/x-python",
   "name": "python",
   "nbconvert_exporter": "python",
   "pygments_lexer": "ipython3",
   "version": "3.9.7"
  }
 },
 "nbformat": 4,
 "nbformat_minor": 5
}
