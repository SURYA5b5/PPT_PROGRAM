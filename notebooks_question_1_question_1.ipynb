{
  "metadata": {
    "language_info": {
      "codemirror_mode": {
        "name": "python",
        "version": 3
      },
      "file_extension": ".py",
      "mimetype": "text/x-python",
      "name": "python",
      "nbconvert_exporter": "python",
      "pygments_lexer": "ipython3",
      "version": "3.8"
    },
    "kernelspec": {
      "name": "python",
      "display_name": "Python (Pyodide)",
      "language": "python"
    }
  },
  "nbformat_minor": 4,
  "nbformat": 4,
  "cells": [
    {
      "cell_type": "code",
      "source": "class solution:\n    def square(self, x):\n        min = 0\n        max = x\n        i = 0\n        if x == 1:\n            return 1\n        while i < 1:\n            mid = (min + max) / 2\n            res = mid ** 2\n            res = round(res, 4)\n            if res == x:\n                i = 1\n                break\n            elif res > x:\n                max = mid\n            else:\n                min = mid\n        return mid\n    \nx=8\ns=solution()\ns.square(x)\n",
      "metadata": {
        "trusted": true
      },
      "execution_count": 5,
      "outputs": [
        {
          "execution_count": 5,
          "output_type": "execute_result",
          "data": {
            "text/plain": "2.82843017578125"
          },
          "metadata": {}
        }
      ]
    },
    {
      "cell_type": "code",
      "source": "",
      "metadata": {},
      "execution_count": null,
      "outputs": []
    }
  ]
}