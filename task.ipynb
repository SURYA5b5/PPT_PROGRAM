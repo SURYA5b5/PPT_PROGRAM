{
 "cells": [
  {
   "cell_type": "code",
   "execution_count": 3,
   "id": "ea4f24d7",
   "metadata": {},
   "outputs": [
    {
     "data": {
      "text/plain": [
       "0"
      ]
     },
     "execution_count": 3,
     "metadata": {},
     "output_type": "execute_result"
    }
   ],
   "source": [
    "class solution:\n",
    "    def char1(self,s):\n",
    "        d1={}\n",
    "        for i in s:\n",
    "            if i not in d1:\n",
    "                d1[i]=1\n",
    "            else:\n",
    "                d1[i]+=1\n",
    "\n",
    "        for k,v in d1.items():\n",
    "            if v==1:\n",
    "                return s.index(k)\n",
    "        return -1\n",
    "s='leetcode'\n",
    "d=solution()\n",
    "d.char1(s)"
   ]
  },
  {
   "cell_type": "code",
   "execution_count": null,
   "id": "a08d7e03",
   "metadata": {},
   "outputs": [],
   "source": []
  },
  {
   "cell_type": "code",
   "execution_count": null,
   "id": "56da87c0",
   "metadata": {},
   "outputs": [],
   "source": []
  }
 ],
 "metadata": {
  "kernelspec": {
   "display_name": "Python 3 (ipykernel)",
   "language": "python",
   "name": "python3"
  },
  "language_info": {
   "codemirror_mode": {
    "name": "ipython",
    "version": 3
   },
   "file_extension": ".py",
   "mimetype": "text/x-python",
   "name": "python",
   "nbconvert_exporter": "python",
   "pygments_lexer": "ipython3",
   "version": "3.9.7"
  }
 },
 "nbformat": 4,
 "nbformat_minor": 5
}
